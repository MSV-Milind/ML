{
 "cells": [
  {
   "cell_type": "code",
   "execution_count": 1,
   "metadata": {},
   "outputs": [],
   "source": [
    "import pandas as pd\n",
    "import matplotlib.pyplot as plt\n",
    "import seaborn as sns"
   ]
  },
  {
   "cell_type": "markdown",
   "metadata": {},
   "source": [
    "# Importing the Data"
   ]
  },
  {
   "cell_type": "code",
   "execution_count": 2,
   "metadata": {},
   "outputs": [],
   "source": [
    "df1 = pd.read_csv('owid-covid-data.csv')"
   ]
  },
  {
   "cell_type": "code",
   "execution_count": 3,
   "metadata": {},
   "outputs": [
    {
     "data": {
      "text/html": [
       "<div>\n",
       "<style scoped>\n",
       "    .dataframe tbody tr th:only-of-type {\n",
       "        vertical-align: middle;\n",
       "    }\n",
       "\n",
       "    .dataframe tbody tr th {\n",
       "        vertical-align: top;\n",
       "    }\n",
       "\n",
       "    .dataframe thead th {\n",
       "        text-align: right;\n",
       "    }\n",
       "</style>\n",
       "<table border=\"1\" class=\"dataframe\">\n",
       "  <thead>\n",
       "    <tr style=\"text-align: right;\">\n",
       "      <th></th>\n",
       "      <th>iso_code</th>\n",
       "      <th>continent</th>\n",
       "      <th>location</th>\n",
       "      <th>date</th>\n",
       "      <th>total_cases</th>\n",
       "      <th>new_cases</th>\n",
       "      <th>total_deaths</th>\n",
       "      <th>new_deaths</th>\n",
       "      <th>total_cases_per_million</th>\n",
       "      <th>new_cases_per_million</th>\n",
       "      <th>...</th>\n",
       "      <th>aged_70_older</th>\n",
       "      <th>gdp_per_capita</th>\n",
       "      <th>extreme_poverty</th>\n",
       "      <th>cardiovasc_death_rate</th>\n",
       "      <th>diabetes_prevalence</th>\n",
       "      <th>female_smokers</th>\n",
       "      <th>male_smokers</th>\n",
       "      <th>handwashing_facilities</th>\n",
       "      <th>hospital_beds_per_thousand</th>\n",
       "      <th>life_expectancy</th>\n",
       "    </tr>\n",
       "  </thead>\n",
       "  <tbody>\n",
       "    <tr>\n",
       "      <th>0</th>\n",
       "      <td>ABW</td>\n",
       "      <td>North America</td>\n",
       "      <td>Aruba</td>\n",
       "      <td>2020-03-13</td>\n",
       "      <td>2.0</td>\n",
       "      <td>2.0</td>\n",
       "      <td>0.0</td>\n",
       "      <td>0.0</td>\n",
       "      <td>18.733</td>\n",
       "      <td>18.733</td>\n",
       "      <td>...</td>\n",
       "      <td>7.452</td>\n",
       "      <td>35973.781</td>\n",
       "      <td>NaN</td>\n",
       "      <td>NaN</td>\n",
       "      <td>11.62</td>\n",
       "      <td>NaN</td>\n",
       "      <td>NaN</td>\n",
       "      <td>NaN</td>\n",
       "      <td>NaN</td>\n",
       "      <td>76.29</td>\n",
       "    </tr>\n",
       "    <tr>\n",
       "      <th>1</th>\n",
       "      <td>ABW</td>\n",
       "      <td>North America</td>\n",
       "      <td>Aruba</td>\n",
       "      <td>2020-03-20</td>\n",
       "      <td>4.0</td>\n",
       "      <td>2.0</td>\n",
       "      <td>0.0</td>\n",
       "      <td>0.0</td>\n",
       "      <td>37.465</td>\n",
       "      <td>18.733</td>\n",
       "      <td>...</td>\n",
       "      <td>7.452</td>\n",
       "      <td>35973.781</td>\n",
       "      <td>NaN</td>\n",
       "      <td>NaN</td>\n",
       "      <td>11.62</td>\n",
       "      <td>NaN</td>\n",
       "      <td>NaN</td>\n",
       "      <td>NaN</td>\n",
       "      <td>NaN</td>\n",
       "      <td>76.29</td>\n",
       "    </tr>\n",
       "    <tr>\n",
       "      <th>2</th>\n",
       "      <td>ABW</td>\n",
       "      <td>North America</td>\n",
       "      <td>Aruba</td>\n",
       "      <td>2020-03-24</td>\n",
       "      <td>12.0</td>\n",
       "      <td>8.0</td>\n",
       "      <td>0.0</td>\n",
       "      <td>0.0</td>\n",
       "      <td>112.395</td>\n",
       "      <td>74.930</td>\n",
       "      <td>...</td>\n",
       "      <td>7.452</td>\n",
       "      <td>35973.781</td>\n",
       "      <td>NaN</td>\n",
       "      <td>NaN</td>\n",
       "      <td>11.62</td>\n",
       "      <td>NaN</td>\n",
       "      <td>NaN</td>\n",
       "      <td>NaN</td>\n",
       "      <td>NaN</td>\n",
       "      <td>76.29</td>\n",
       "    </tr>\n",
       "    <tr>\n",
       "      <th>3</th>\n",
       "      <td>ABW</td>\n",
       "      <td>North America</td>\n",
       "      <td>Aruba</td>\n",
       "      <td>2020-03-25</td>\n",
       "      <td>17.0</td>\n",
       "      <td>5.0</td>\n",
       "      <td>0.0</td>\n",
       "      <td>0.0</td>\n",
       "      <td>159.227</td>\n",
       "      <td>46.831</td>\n",
       "      <td>...</td>\n",
       "      <td>7.452</td>\n",
       "      <td>35973.781</td>\n",
       "      <td>NaN</td>\n",
       "      <td>NaN</td>\n",
       "      <td>11.62</td>\n",
       "      <td>NaN</td>\n",
       "      <td>NaN</td>\n",
       "      <td>NaN</td>\n",
       "      <td>NaN</td>\n",
       "      <td>76.29</td>\n",
       "    </tr>\n",
       "    <tr>\n",
       "      <th>4</th>\n",
       "      <td>ABW</td>\n",
       "      <td>North America</td>\n",
       "      <td>Aruba</td>\n",
       "      <td>2020-03-26</td>\n",
       "      <td>19.0</td>\n",
       "      <td>2.0</td>\n",
       "      <td>0.0</td>\n",
       "      <td>0.0</td>\n",
       "      <td>177.959</td>\n",
       "      <td>18.733</td>\n",
       "      <td>...</td>\n",
       "      <td>7.452</td>\n",
       "      <td>35973.781</td>\n",
       "      <td>NaN</td>\n",
       "      <td>NaN</td>\n",
       "      <td>11.62</td>\n",
       "      <td>NaN</td>\n",
       "      <td>NaN</td>\n",
       "      <td>NaN</td>\n",
       "      <td>NaN</td>\n",
       "      <td>76.29</td>\n",
       "    </tr>\n",
       "    <tr>\n",
       "      <th>...</th>\n",
       "      <td>...</td>\n",
       "      <td>...</td>\n",
       "      <td>...</td>\n",
       "      <td>...</td>\n",
       "      <td>...</td>\n",
       "      <td>...</td>\n",
       "      <td>...</td>\n",
       "      <td>...</td>\n",
       "      <td>...</td>\n",
       "      <td>...</td>\n",
       "      <td>...</td>\n",
       "      <td>...</td>\n",
       "      <td>...</td>\n",
       "      <td>...</td>\n",
       "      <td>...</td>\n",
       "      <td>...</td>\n",
       "      <td>...</td>\n",
       "      <td>...</td>\n",
       "      <td>...</td>\n",
       "      <td>...</td>\n",
       "      <td>...</td>\n",
       "    </tr>\n",
       "    <tr>\n",
       "      <th>36769</th>\n",
       "      <td>NaN</td>\n",
       "      <td>NaN</td>\n",
       "      <td>International</td>\n",
       "      <td>2020-02-28</td>\n",
       "      <td>705.0</td>\n",
       "      <td>0.0</td>\n",
       "      <td>4.0</td>\n",
       "      <td>0.0</td>\n",
       "      <td>NaN</td>\n",
       "      <td>NaN</td>\n",
       "      <td>...</td>\n",
       "      <td>NaN</td>\n",
       "      <td>NaN</td>\n",
       "      <td>NaN</td>\n",
       "      <td>NaN</td>\n",
       "      <td>NaN</td>\n",
       "      <td>NaN</td>\n",
       "      <td>NaN</td>\n",
       "      <td>NaN</td>\n",
       "      <td>NaN</td>\n",
       "      <td>NaN</td>\n",
       "    </tr>\n",
       "    <tr>\n",
       "      <th>36770</th>\n",
       "      <td>NaN</td>\n",
       "      <td>NaN</td>\n",
       "      <td>International</td>\n",
       "      <td>2020-02-29</td>\n",
       "      <td>705.0</td>\n",
       "      <td>0.0</td>\n",
       "      <td>6.0</td>\n",
       "      <td>2.0</td>\n",
       "      <td>NaN</td>\n",
       "      <td>NaN</td>\n",
       "      <td>...</td>\n",
       "      <td>NaN</td>\n",
       "      <td>NaN</td>\n",
       "      <td>NaN</td>\n",
       "      <td>NaN</td>\n",
       "      <td>NaN</td>\n",
       "      <td>NaN</td>\n",
       "      <td>NaN</td>\n",
       "      <td>NaN</td>\n",
       "      <td>NaN</td>\n",
       "      <td>NaN</td>\n",
       "    </tr>\n",
       "    <tr>\n",
       "      <th>36771</th>\n",
       "      <td>NaN</td>\n",
       "      <td>NaN</td>\n",
       "      <td>International</td>\n",
       "      <td>2020-03-01</td>\n",
       "      <td>705.0</td>\n",
       "      <td>0.0</td>\n",
       "      <td>6.0</td>\n",
       "      <td>0.0</td>\n",
       "      <td>NaN</td>\n",
       "      <td>NaN</td>\n",
       "      <td>...</td>\n",
       "      <td>NaN</td>\n",
       "      <td>NaN</td>\n",
       "      <td>NaN</td>\n",
       "      <td>NaN</td>\n",
       "      <td>NaN</td>\n",
       "      <td>NaN</td>\n",
       "      <td>NaN</td>\n",
       "      <td>NaN</td>\n",
       "      <td>NaN</td>\n",
       "      <td>NaN</td>\n",
       "    </tr>\n",
       "    <tr>\n",
       "      <th>36772</th>\n",
       "      <td>NaN</td>\n",
       "      <td>NaN</td>\n",
       "      <td>International</td>\n",
       "      <td>2020-03-02</td>\n",
       "      <td>705.0</td>\n",
       "      <td>0.0</td>\n",
       "      <td>6.0</td>\n",
       "      <td>0.0</td>\n",
       "      <td>NaN</td>\n",
       "      <td>NaN</td>\n",
       "      <td>...</td>\n",
       "      <td>NaN</td>\n",
       "      <td>NaN</td>\n",
       "      <td>NaN</td>\n",
       "      <td>NaN</td>\n",
       "      <td>NaN</td>\n",
       "      <td>NaN</td>\n",
       "      <td>NaN</td>\n",
       "      <td>NaN</td>\n",
       "      <td>NaN</td>\n",
       "      <td>NaN</td>\n",
       "    </tr>\n",
       "    <tr>\n",
       "      <th>36773</th>\n",
       "      <td>NaN</td>\n",
       "      <td>NaN</td>\n",
       "      <td>International</td>\n",
       "      <td>2020-03-10</td>\n",
       "      <td>696.0</td>\n",
       "      <td>-9.0</td>\n",
       "      <td>7.0</td>\n",
       "      <td>1.0</td>\n",
       "      <td>NaN</td>\n",
       "      <td>NaN</td>\n",
       "      <td>...</td>\n",
       "      <td>NaN</td>\n",
       "      <td>NaN</td>\n",
       "      <td>NaN</td>\n",
       "      <td>NaN</td>\n",
       "      <td>NaN</td>\n",
       "      <td>NaN</td>\n",
       "      <td>NaN</td>\n",
       "      <td>NaN</td>\n",
       "      <td>NaN</td>\n",
       "      <td>NaN</td>\n",
       "    </tr>\n",
       "  </tbody>\n",
       "</table>\n",
       "<p>36774 rows × 36 columns</p>\n",
       "</div>"
      ],
      "text/plain": [
       "      iso_code      continent       location        date  total_cases  \\\n",
       "0          ABW  North America          Aruba  2020-03-13          2.0   \n",
       "1          ABW  North America          Aruba  2020-03-20          4.0   \n",
       "2          ABW  North America          Aruba  2020-03-24         12.0   \n",
       "3          ABW  North America          Aruba  2020-03-25         17.0   \n",
       "4          ABW  North America          Aruba  2020-03-26         19.0   \n",
       "...        ...            ...            ...         ...          ...   \n",
       "36769      NaN            NaN  International  2020-02-28        705.0   \n",
       "36770      NaN            NaN  International  2020-02-29        705.0   \n",
       "36771      NaN            NaN  International  2020-03-01        705.0   \n",
       "36772      NaN            NaN  International  2020-03-02        705.0   \n",
       "36773      NaN            NaN  International  2020-03-10        696.0   \n",
       "\n",
       "       new_cases  total_deaths  new_deaths  total_cases_per_million  \\\n",
       "0            2.0           0.0         0.0                   18.733   \n",
       "1            2.0           0.0         0.0                   37.465   \n",
       "2            8.0           0.0         0.0                  112.395   \n",
       "3            5.0           0.0         0.0                  159.227   \n",
       "4            2.0           0.0         0.0                  177.959   \n",
       "...          ...           ...         ...                      ...   \n",
       "36769        0.0           4.0         0.0                      NaN   \n",
       "36770        0.0           6.0         2.0                      NaN   \n",
       "36771        0.0           6.0         0.0                      NaN   \n",
       "36772        0.0           6.0         0.0                      NaN   \n",
       "36773       -9.0           7.0         1.0                      NaN   \n",
       "\n",
       "       new_cases_per_million  ...  aged_70_older  gdp_per_capita  \\\n",
       "0                     18.733  ...          7.452       35973.781   \n",
       "1                     18.733  ...          7.452       35973.781   \n",
       "2                     74.930  ...          7.452       35973.781   \n",
       "3                     46.831  ...          7.452       35973.781   \n",
       "4                     18.733  ...          7.452       35973.781   \n",
       "...                      ...  ...            ...             ...   \n",
       "36769                    NaN  ...            NaN             NaN   \n",
       "36770                    NaN  ...            NaN             NaN   \n",
       "36771                    NaN  ...            NaN             NaN   \n",
       "36772                    NaN  ...            NaN             NaN   \n",
       "36773                    NaN  ...            NaN             NaN   \n",
       "\n",
       "       extreme_poverty  cardiovasc_death_rate  diabetes_prevalence  \\\n",
       "0                  NaN                    NaN                11.62   \n",
       "1                  NaN                    NaN                11.62   \n",
       "2                  NaN                    NaN                11.62   \n",
       "3                  NaN                    NaN                11.62   \n",
       "4                  NaN                    NaN                11.62   \n",
       "...                ...                    ...                  ...   \n",
       "36769              NaN                    NaN                  NaN   \n",
       "36770              NaN                    NaN                  NaN   \n",
       "36771              NaN                    NaN                  NaN   \n",
       "36772              NaN                    NaN                  NaN   \n",
       "36773              NaN                    NaN                  NaN   \n",
       "\n",
       "       female_smokers  male_smokers  handwashing_facilities  \\\n",
       "0                 NaN           NaN                     NaN   \n",
       "1                 NaN           NaN                     NaN   \n",
       "2                 NaN           NaN                     NaN   \n",
       "3                 NaN           NaN                     NaN   \n",
       "4                 NaN           NaN                     NaN   \n",
       "...               ...           ...                     ...   \n",
       "36769             NaN           NaN                     NaN   \n",
       "36770             NaN           NaN                     NaN   \n",
       "36771             NaN           NaN                     NaN   \n",
       "36772             NaN           NaN                     NaN   \n",
       "36773             NaN           NaN                     NaN   \n",
       "\n",
       "       hospital_beds_per_thousand  life_expectancy  \n",
       "0                             NaN            76.29  \n",
       "1                             NaN            76.29  \n",
       "2                             NaN            76.29  \n",
       "3                             NaN            76.29  \n",
       "4                             NaN            76.29  \n",
       "...                           ...              ...  \n",
       "36769                         NaN              NaN  \n",
       "36770                         NaN              NaN  \n",
       "36771                         NaN              NaN  \n",
       "36772                         NaN              NaN  \n",
       "36773                         NaN              NaN  \n",
       "\n",
       "[36774 rows x 36 columns]"
      ]
     },
     "execution_count": 3,
     "metadata": {},
     "output_type": "execute_result"
    }
   ],
   "source": [
    "df1"
   ]
  },
  {
   "cell_type": "markdown",
   "metadata": {},
   "source": [
    "# Subsetting the data"
   ]
  },
  {
   "cell_type": "code",
   "execution_count": 4,
   "metadata": {},
   "outputs": [],
   "source": [
    "df1=df1[df1['location']=='India']"
   ]
  },
  {
   "cell_type": "code",
   "execution_count": 5,
   "metadata": {},
   "outputs": [
    {
     "data": {
      "text/html": [
       "<div>\n",
       "<style scoped>\n",
       "    .dataframe tbody tr th:only-of-type {\n",
       "        vertical-align: middle;\n",
       "    }\n",
       "\n",
       "    .dataframe tbody tr th {\n",
       "        vertical-align: top;\n",
       "    }\n",
       "\n",
       "    .dataframe thead th {\n",
       "        text-align: right;\n",
       "    }\n",
       "</style>\n",
       "<table border=\"1\" class=\"dataframe\">\n",
       "  <thead>\n",
       "    <tr style=\"text-align: right;\">\n",
       "      <th></th>\n",
       "      <th>iso_code</th>\n",
       "      <th>continent</th>\n",
       "      <th>location</th>\n",
       "      <th>date</th>\n",
       "      <th>total_cases</th>\n",
       "      <th>new_cases</th>\n",
       "      <th>total_deaths</th>\n",
       "      <th>new_deaths</th>\n",
       "      <th>total_cases_per_million</th>\n",
       "      <th>new_cases_per_million</th>\n",
       "      <th>...</th>\n",
       "      <th>aged_70_older</th>\n",
       "      <th>gdp_per_capita</th>\n",
       "      <th>extreme_poverty</th>\n",
       "      <th>cardiovasc_death_rate</th>\n",
       "      <th>diabetes_prevalence</th>\n",
       "      <th>female_smokers</th>\n",
       "      <th>male_smokers</th>\n",
       "      <th>handwashing_facilities</th>\n",
       "      <th>hospital_beds_per_thousand</th>\n",
       "      <th>life_expectancy</th>\n",
       "    </tr>\n",
       "  </thead>\n",
       "  <tbody>\n",
       "    <tr>\n",
       "      <th>15764</th>\n",
       "      <td>IND</td>\n",
       "      <td>Asia</td>\n",
       "      <td>India</td>\n",
       "      <td>2019-12-31</td>\n",
       "      <td>0.0</td>\n",
       "      <td>0.0</td>\n",
       "      <td>0.0</td>\n",
       "      <td>0.0</td>\n",
       "      <td>0.0</td>\n",
       "      <td>0.0</td>\n",
       "      <td>...</td>\n",
       "      <td>3.414</td>\n",
       "      <td>6426.674</td>\n",
       "      <td>21.2</td>\n",
       "      <td>282.28</td>\n",
       "      <td>10.39</td>\n",
       "      <td>1.9</td>\n",
       "      <td>20.6</td>\n",
       "      <td>59.55</td>\n",
       "      <td>0.53</td>\n",
       "      <td>69.66</td>\n",
       "    </tr>\n",
       "    <tr>\n",
       "      <th>15765</th>\n",
       "      <td>IND</td>\n",
       "      <td>Asia</td>\n",
       "      <td>India</td>\n",
       "      <td>2020-01-01</td>\n",
       "      <td>0.0</td>\n",
       "      <td>0.0</td>\n",
       "      <td>0.0</td>\n",
       "      <td>0.0</td>\n",
       "      <td>0.0</td>\n",
       "      <td>0.0</td>\n",
       "      <td>...</td>\n",
       "      <td>3.414</td>\n",
       "      <td>6426.674</td>\n",
       "      <td>21.2</td>\n",
       "      <td>282.28</td>\n",
       "      <td>10.39</td>\n",
       "      <td>1.9</td>\n",
       "      <td>20.6</td>\n",
       "      <td>59.55</td>\n",
       "      <td>0.53</td>\n",
       "      <td>69.66</td>\n",
       "    </tr>\n",
       "    <tr>\n",
       "      <th>15766</th>\n",
       "      <td>IND</td>\n",
       "      <td>Asia</td>\n",
       "      <td>India</td>\n",
       "      <td>2020-01-02</td>\n",
       "      <td>0.0</td>\n",
       "      <td>0.0</td>\n",
       "      <td>0.0</td>\n",
       "      <td>0.0</td>\n",
       "      <td>0.0</td>\n",
       "      <td>0.0</td>\n",
       "      <td>...</td>\n",
       "      <td>3.414</td>\n",
       "      <td>6426.674</td>\n",
       "      <td>21.2</td>\n",
       "      <td>282.28</td>\n",
       "      <td>10.39</td>\n",
       "      <td>1.9</td>\n",
       "      <td>20.6</td>\n",
       "      <td>59.55</td>\n",
       "      <td>0.53</td>\n",
       "      <td>69.66</td>\n",
       "    </tr>\n",
       "    <tr>\n",
       "      <th>15767</th>\n",
       "      <td>IND</td>\n",
       "      <td>Asia</td>\n",
       "      <td>India</td>\n",
       "      <td>2020-01-03</td>\n",
       "      <td>0.0</td>\n",
       "      <td>0.0</td>\n",
       "      <td>0.0</td>\n",
       "      <td>0.0</td>\n",
       "      <td>0.0</td>\n",
       "      <td>0.0</td>\n",
       "      <td>...</td>\n",
       "      <td>3.414</td>\n",
       "      <td>6426.674</td>\n",
       "      <td>21.2</td>\n",
       "      <td>282.28</td>\n",
       "      <td>10.39</td>\n",
       "      <td>1.9</td>\n",
       "      <td>20.6</td>\n",
       "      <td>59.55</td>\n",
       "      <td>0.53</td>\n",
       "      <td>69.66</td>\n",
       "    </tr>\n",
       "    <tr>\n",
       "      <th>15768</th>\n",
       "      <td>IND</td>\n",
       "      <td>Asia</td>\n",
       "      <td>India</td>\n",
       "      <td>2020-01-04</td>\n",
       "      <td>0.0</td>\n",
       "      <td>0.0</td>\n",
       "      <td>0.0</td>\n",
       "      <td>0.0</td>\n",
       "      <td>0.0</td>\n",
       "      <td>0.0</td>\n",
       "      <td>...</td>\n",
       "      <td>3.414</td>\n",
       "      <td>6426.674</td>\n",
       "      <td>21.2</td>\n",
       "      <td>282.28</td>\n",
       "      <td>10.39</td>\n",
       "      <td>1.9</td>\n",
       "      <td>20.6</td>\n",
       "      <td>59.55</td>\n",
       "      <td>0.53</td>\n",
       "      <td>69.66</td>\n",
       "    </tr>\n",
       "  </tbody>\n",
       "</table>\n",
       "<p>5 rows × 36 columns</p>\n",
       "</div>"
      ],
      "text/plain": [
       "      iso_code continent location        date  total_cases  new_cases  \\\n",
       "15764      IND      Asia    India  2019-12-31          0.0        0.0   \n",
       "15765      IND      Asia    India  2020-01-01          0.0        0.0   \n",
       "15766      IND      Asia    India  2020-01-02          0.0        0.0   \n",
       "15767      IND      Asia    India  2020-01-03          0.0        0.0   \n",
       "15768      IND      Asia    India  2020-01-04          0.0        0.0   \n",
       "\n",
       "       total_deaths  new_deaths  total_cases_per_million  \\\n",
       "15764           0.0         0.0                      0.0   \n",
       "15765           0.0         0.0                      0.0   \n",
       "15766           0.0         0.0                      0.0   \n",
       "15767           0.0         0.0                      0.0   \n",
       "15768           0.0         0.0                      0.0   \n",
       "\n",
       "       new_cases_per_million  ...  aged_70_older  gdp_per_capita  \\\n",
       "15764                    0.0  ...          3.414        6426.674   \n",
       "15765                    0.0  ...          3.414        6426.674   \n",
       "15766                    0.0  ...          3.414        6426.674   \n",
       "15767                    0.0  ...          3.414        6426.674   \n",
       "15768                    0.0  ...          3.414        6426.674   \n",
       "\n",
       "       extreme_poverty  cardiovasc_death_rate  diabetes_prevalence  \\\n",
       "15764             21.2                 282.28                10.39   \n",
       "15765             21.2                 282.28                10.39   \n",
       "15766             21.2                 282.28                10.39   \n",
       "15767             21.2                 282.28                10.39   \n",
       "15768             21.2                 282.28                10.39   \n",
       "\n",
       "       female_smokers  male_smokers  handwashing_facilities  \\\n",
       "15764             1.9          20.6                   59.55   \n",
       "15765             1.9          20.6                   59.55   \n",
       "15766             1.9          20.6                   59.55   \n",
       "15767             1.9          20.6                   59.55   \n",
       "15768             1.9          20.6                   59.55   \n",
       "\n",
       "       hospital_beds_per_thousand  life_expectancy  \n",
       "15764                        0.53            69.66  \n",
       "15765                        0.53            69.66  \n",
       "15766                        0.53            69.66  \n",
       "15767                        0.53            69.66  \n",
       "15768                        0.53            69.66  \n",
       "\n",
       "[5 rows x 36 columns]"
      ]
     },
     "execution_count": 5,
     "metadata": {},
     "output_type": "execute_result"
    }
   ],
   "source": [
    "df1.head()"
   ]
  },
  {
   "cell_type": "code",
   "execution_count": 6,
   "metadata": {},
   "outputs": [
    {
     "name": "stdout",
     "output_type": "stream",
     "text": [
      "<class 'pandas.core.frame.DataFrame'>\n",
      "Int64Index: 227 entries, 15764 to 15990\n",
      "Data columns (total 36 columns):\n",
      " #   Column                           Non-Null Count  Dtype  \n",
      "---  ------                           --------------  -----  \n",
      " 0   iso_code                         227 non-null    object \n",
      " 1   continent                        227 non-null    object \n",
      " 2   location                         227 non-null    object \n",
      " 3   date                             227 non-null    object \n",
      " 4   total_cases                      227 non-null    float64\n",
      " 5   new_cases                        227 non-null    float64\n",
      " 6   total_deaths                     227 non-null    float64\n",
      " 7   new_deaths                       227 non-null    float64\n",
      " 8   total_cases_per_million          227 non-null    float64\n",
      " 9   new_cases_per_million            227 non-null    float64\n",
      " 10  total_deaths_per_million         227 non-null    float64\n",
      " 11  new_deaths_per_million           227 non-null    float64\n",
      " 12  new_tests                        137 non-null    float64\n",
      " 13  total_tests                      143 non-null    float64\n",
      " 14  total_tests_per_thousand         143 non-null    float64\n",
      " 15  new_tests_per_thousand           137 non-null    float64\n",
      " 16  new_tests_smoothed               148 non-null    float64\n",
      " 17  new_tests_smoothed_per_thousand  148 non-null    float64\n",
      " 18  tests_per_case                   148 non-null    float64\n",
      " 19  positive_rate                    148 non-null    float64\n",
      " 20  tests_units                      155 non-null    object \n",
      " 21  stringency_index                 219 non-null    float64\n",
      " 22  population                       227 non-null    float64\n",
      " 23  population_density               227 non-null    float64\n",
      " 24  median_age                       227 non-null    float64\n",
      " 25  aged_65_older                    227 non-null    float64\n",
      " 26  aged_70_older                    227 non-null    float64\n",
      " 27  gdp_per_capita                   227 non-null    float64\n",
      " 28  extreme_poverty                  227 non-null    float64\n",
      " 29  cardiovasc_death_rate            227 non-null    float64\n",
      " 30  diabetes_prevalence              227 non-null    float64\n",
      " 31  female_smokers                   227 non-null    float64\n",
      " 32  male_smokers                     227 non-null    float64\n",
      " 33  handwashing_facilities           227 non-null    float64\n",
      " 34  hospital_beds_per_thousand       227 non-null    float64\n",
      " 35  life_expectancy                  227 non-null    float64\n",
      "dtypes: float64(31), object(5)\n",
      "memory usage: 65.6+ KB\n"
     ]
    }
   ],
   "source": [
    "df1.info()"
   ]
  },
  {
   "cell_type": "markdown",
   "metadata": {},
   "source": [
    "# Checking for null values"
   ]
  },
  {
   "cell_type": "code",
   "execution_count": 7,
   "metadata": {},
   "outputs": [
    {
     "data": {
      "text/plain": [
       "0.0"
      ]
     },
     "execution_count": 7,
     "metadata": {},
     "output_type": "execute_result"
    }
   ],
   "source": [
    "(df1['total_cases'].isna().sum()/227)*100"
   ]
  },
  {
   "cell_type": "code",
   "execution_count": 8,
   "metadata": {},
   "outputs": [
    {
     "data": {
      "text/plain": [
       "0.0"
      ]
     },
     "execution_count": 8,
     "metadata": {},
     "output_type": "execute_result"
    }
   ],
   "source": [
    "(df1['new_cases'].isna().sum()/227)*100"
   ]
  },
  {
   "cell_type": "code",
   "execution_count": 9,
   "metadata": {},
   "outputs": [
    {
     "data": {
      "text/plain": [
       "39.647577092511014"
      ]
     },
     "execution_count": 9,
     "metadata": {},
     "output_type": "execute_result"
    }
   ],
   "source": [
    "(df1['new_tests'].isna().sum()/227)*100"
   ]
  },
  {
   "cell_type": "code",
   "execution_count": 10,
   "metadata": {},
   "outputs": [
    {
     "data": {
      "text/plain": [
       "37.00440528634361"
      ]
     },
     "execution_count": 10,
     "metadata": {},
     "output_type": "execute_result"
    }
   ],
   "source": [
    "(df1['total_tests'].isna().sum()/227)*100"
   ]
  },
  {
   "cell_type": "code",
   "execution_count": 11,
   "metadata": {},
   "outputs": [
    {
     "data": {
      "text/plain": [
       "37.00440528634361"
      ]
     },
     "execution_count": 11,
     "metadata": {},
     "output_type": "execute_result"
    }
   ],
   "source": [
    "(df1['total_tests_per_thousand'].isna().sum()/227)*100"
   ]
  },
  {
   "cell_type": "code",
   "execution_count": 12,
   "metadata": {},
   "outputs": [
    {
     "data": {
      "text/plain": [
       "39.647577092511014"
      ]
     },
     "execution_count": 12,
     "metadata": {},
     "output_type": "execute_result"
    }
   ],
   "source": [
    "(df1['new_tests_per_thousand'].isna().sum()/227)*100"
   ]
  },
  {
   "cell_type": "code",
   "execution_count": 13,
   "metadata": {},
   "outputs": [
    {
     "data": {
      "text/plain": [
       "34.801762114537446"
      ]
     },
     "execution_count": 13,
     "metadata": {},
     "output_type": "execute_result"
    }
   ],
   "source": [
    "(df1['new_tests_smoothed'].isna().sum()/227)*100"
   ]
  },
  {
   "cell_type": "code",
   "execution_count": 14,
   "metadata": {},
   "outputs": [
    {
     "data": {
      "text/plain": [
       "34.801762114537446"
      ]
     },
     "execution_count": 14,
     "metadata": {},
     "output_type": "execute_result"
    }
   ],
   "source": [
    "(df1['new_tests_smoothed_per_thousand'].isna().sum()/227)*100"
   ]
  },
  {
   "cell_type": "code",
   "execution_count": 15,
   "metadata": {},
   "outputs": [
    {
     "data": {
      "text/plain": [
       "34.801762114537446"
      ]
     },
     "execution_count": 15,
     "metadata": {},
     "output_type": "execute_result"
    }
   ],
   "source": [
    "(df1['tests_per_case'].isna().sum()/227)*100"
   ]
  },
  {
   "cell_type": "code",
   "execution_count": 16,
   "metadata": {},
   "outputs": [
    {
     "data": {
      "text/plain": [
       "34.801762114537446"
      ]
     },
     "execution_count": 16,
     "metadata": {},
     "output_type": "execute_result"
    }
   ],
   "source": [
    "(df1['positive_rate'].isna().sum()/227)*100"
   ]
  },
  {
   "cell_type": "code",
   "execution_count": 17,
   "metadata": {},
   "outputs": [
    {
     "data": {
      "text/plain": [
       "31.718061674008812"
      ]
     },
     "execution_count": 17,
     "metadata": {},
     "output_type": "execute_result"
    }
   ],
   "source": [
    "(df1['tests_units'].isna().sum()/227)*100"
   ]
  },
  {
   "cell_type": "code",
   "execution_count": 18,
   "metadata": {},
   "outputs": [
    {
     "data": {
      "text/plain": [
       "3.524229074889868"
      ]
     },
     "execution_count": 18,
     "metadata": {},
     "output_type": "execute_result"
    }
   ],
   "source": [
    "(df1['stringency_index'].isna().sum()/227)*100"
   ]
  },
  {
   "cell_type": "markdown",
   "metadata": {},
   "source": [
    "# Replacing the null values"
   ]
  },
  {
   "cell_type": "code",
   "execution_count": 19,
   "metadata": {},
   "outputs": [
    {
     "name": "stdout",
     "output_type": "stream",
     "text": [
      "<class 'pandas.core.frame.DataFrame'>\n",
      "Int64Index: 227 entries, 15764 to 15990\n",
      "Data columns (total 36 columns):\n",
      " #   Column                           Non-Null Count  Dtype  \n",
      "---  ------                           --------------  -----  \n",
      " 0   iso_code                         227 non-null    object \n",
      " 1   continent                        227 non-null    object \n",
      " 2   location                         227 non-null    object \n",
      " 3   date                             227 non-null    object \n",
      " 4   total_cases                      227 non-null    float64\n",
      " 5   new_cases                        227 non-null    float64\n",
      " 6   total_deaths                     227 non-null    float64\n",
      " 7   new_deaths                       227 non-null    float64\n",
      " 8   total_cases_per_million          227 non-null    float64\n",
      " 9   new_cases_per_million            227 non-null    float64\n",
      " 10  total_deaths_per_million         227 non-null    float64\n",
      " 11  new_deaths_per_million           227 non-null    float64\n",
      " 12  new_tests                        137 non-null    float64\n",
      " 13  total_tests                      143 non-null    float64\n",
      " 14  total_tests_per_thousand         143 non-null    float64\n",
      " 15  new_tests_per_thousand           137 non-null    float64\n",
      " 16  new_tests_smoothed               148 non-null    float64\n",
      " 17  new_tests_smoothed_per_thousand  148 non-null    float64\n",
      " 18  tests_per_case                   148 non-null    float64\n",
      " 19  positive_rate                    148 non-null    float64\n",
      " 20  tests_units                      155 non-null    object \n",
      " 21  stringency_index                 219 non-null    float64\n",
      " 22  population                       227 non-null    float64\n",
      " 23  population_density               227 non-null    float64\n",
      " 24  median_age                       227 non-null    float64\n",
      " 25  aged_65_older                    227 non-null    float64\n",
      " 26  aged_70_older                    227 non-null    float64\n",
      " 27  gdp_per_capita                   227 non-null    float64\n",
      " 28  extreme_poverty                  227 non-null    float64\n",
      " 29  cardiovasc_death_rate            227 non-null    float64\n",
      " 30  diabetes_prevalence              227 non-null    float64\n",
      " 31  female_smokers                   227 non-null    float64\n",
      " 32  male_smokers                     227 non-null    float64\n",
      " 33  handwashing_facilities           227 non-null    float64\n",
      " 34  hospital_beds_per_thousand       227 non-null    float64\n",
      " 35  life_expectancy                  227 non-null    float64\n",
      "dtypes: float64(31), object(5)\n",
      "memory usage: 65.6+ KB\n"
     ]
    }
   ],
   "source": [
    "df1.info()"
   ]
  },
  {
   "cell_type": "code",
   "execution_count": 20,
   "metadata": {},
   "outputs": [
    {
     "data": {
      "text/plain": [
       "0         157.0\n",
       "1         191.0\n",
       "2        1060.0\n",
       "3        1298.0\n",
       "4        1325.0\n",
       "         ...   \n",
       "132    698290.0\n",
       "133    719364.0\n",
       "134    733449.0\n",
       "135    830391.0\n",
       "136    848728.0\n",
       "Length: 137, dtype: float64"
      ]
     },
     "execution_count": 20,
     "metadata": {},
     "output_type": "execute_result"
    }
   ],
   "source": [
    "df1['new_tests'].mode()"
   ]
  },
  {
   "cell_type": "code",
   "execution_count": 21,
   "metadata": {},
   "outputs": [
    {
     "name": "stderr",
     "output_type": "stream",
     "text": [
      "/Users/masrithmilind/opt/anaconda3/lib/python3.8/site-packages/pandas/core/generic.py:6245: SettingWithCopyWarning: \n",
      "A value is trying to be set on a copy of a slice from a DataFrame\n",
      "\n",
      "See the caveats in the documentation: https://pandas.pydata.org/pandas-docs/stable/user_guide/indexing.html#returning-a-view-versus-a-copy\n",
      "  self._update_inplace(new_data)\n"
     ]
    }
   ],
   "source": [
    "df1[\"new_tests\"].fillna(df1[\"new_tests\"].mode()[0],inplace=True)\n",
    "df1[\"total_tests\"].fillna(df1[\"total_tests\"].mode()[0],inplace=True)\n",
    "df1[\"total_tests_per_thousand\"].fillna(df1[\"total_tests_per_thousand\"].mode()[0],inplace=True)\n",
    "df1[\"new_tests_per_thousand\"].fillna(df1[\"new_tests_per_thousand\"].mode()[0],inplace=True)\n",
    "df1[\"new_tests_smoothed\"].fillna(df1[\"new_tests_smoothed\"].mode()[0],inplace=True)\n",
    "df1[\"new_tests_smoothed_per_thousand\"].fillna(df1[\"new_tests_smoothed_per_thousand\"].mode()[0],inplace=True)\n",
    "df1[\"tests_per_case\"].fillna(df1[\"tests_per_case\"].mode()[0],inplace=True)\n",
    "df1[\"positive_rate\"].fillna(df1[\"positive_rate\"].mode()[0],inplace=True)\n",
    "df1[\"tests_units\"].fillna(df1[\"tests_units\"].mode()[0],inplace=True)\n",
    "df1[\"stringency_index\"].fillna(df1[\"stringency_index\"].mode()[0],inplace=True)"
   ]
  },
  {
   "cell_type": "code",
   "execution_count": 22,
   "metadata": {},
   "outputs": [
    {
     "data": {
      "text/plain": [
       "15764    samples tested\n",
       "15765    samples tested\n",
       "15766    samples tested\n",
       "15767    samples tested\n",
       "15768    samples tested\n",
       "              ...      \n",
       "15986    samples tested\n",
       "15987    samples tested\n",
       "15988    samples tested\n",
       "15989    samples tested\n",
       "15990    samples tested\n",
       "Name: tests_units, Length: 227, dtype: object"
      ]
     },
     "execution_count": 22,
     "metadata": {},
     "output_type": "execute_result"
    }
   ],
   "source": [
    "df1['tests_units']"
   ]
  },
  {
   "cell_type": "code",
   "execution_count": 23,
   "metadata": {},
   "outputs": [
    {
     "name": "stdout",
     "output_type": "stream",
     "text": [
      "<class 'pandas.core.frame.DataFrame'>\n",
      "Int64Index: 227 entries, 15764 to 15990\n",
      "Data columns (total 36 columns):\n",
      " #   Column                           Non-Null Count  Dtype  \n",
      "---  ------                           --------------  -----  \n",
      " 0   iso_code                         227 non-null    object \n",
      " 1   continent                        227 non-null    object \n",
      " 2   location                         227 non-null    object \n",
      " 3   date                             227 non-null    object \n",
      " 4   total_cases                      227 non-null    float64\n",
      " 5   new_cases                        227 non-null    float64\n",
      " 6   total_deaths                     227 non-null    float64\n",
      " 7   new_deaths                       227 non-null    float64\n",
      " 8   total_cases_per_million          227 non-null    float64\n",
      " 9   new_cases_per_million            227 non-null    float64\n",
      " 10  total_deaths_per_million         227 non-null    float64\n",
      " 11  new_deaths_per_million           227 non-null    float64\n",
      " 12  new_tests                        227 non-null    float64\n",
      " 13  total_tests                      227 non-null    float64\n",
      " 14  total_tests_per_thousand         227 non-null    float64\n",
      " 15  new_tests_per_thousand           227 non-null    float64\n",
      " 16  new_tests_smoothed               227 non-null    float64\n",
      " 17  new_tests_smoothed_per_thousand  227 non-null    float64\n",
      " 18  tests_per_case                   227 non-null    float64\n",
      " 19  positive_rate                    227 non-null    float64\n",
      " 20  tests_units                      227 non-null    object \n",
      " 21  stringency_index                 227 non-null    float64\n",
      " 22  population                       227 non-null    float64\n",
      " 23  population_density               227 non-null    float64\n",
      " 24  median_age                       227 non-null    float64\n",
      " 25  aged_65_older                    227 non-null    float64\n",
      " 26  aged_70_older                    227 non-null    float64\n",
      " 27  gdp_per_capita                   227 non-null    float64\n",
      " 28  extreme_poverty                  227 non-null    float64\n",
      " 29  cardiovasc_death_rate            227 non-null    float64\n",
      " 30  diabetes_prevalence              227 non-null    float64\n",
      " 31  female_smokers                   227 non-null    float64\n",
      " 32  male_smokers                     227 non-null    float64\n",
      " 33  handwashing_facilities           227 non-null    float64\n",
      " 34  hospital_beds_per_thousand       227 non-null    float64\n",
      " 35  life_expectancy                  227 non-null    float64\n",
      "dtypes: float64(31), object(5)\n",
      "memory usage: 65.6+ KB\n"
     ]
    }
   ],
   "source": [
    "df1.info()"
   ]
  },
  {
   "cell_type": "markdown",
   "metadata": {},
   "source": [
    "# Univariate Analysis"
   ]
  },
  {
   "cell_type": "markdown",
   "metadata": {},
   "source": [
    "## Histograms of 10 feature columns"
   ]
  },
  {
   "cell_type": "markdown",
   "metadata": {},
   "source": [
    "### Defining the column labels"
   ]
  },
  {
   "cell_type": "code",
   "execution_count": 24,
   "metadata": {},
   "outputs": [],
   "source": [
    "iso_code = df1[\"iso_code\"]\n",
    "continent = df1[\"continent\"]\n",
    "location = df1[\"location\"]\n",
    "date = df1[\"date\"]\n",
    "total_cases = df1[\"total_cases\"]\n",
    "new_cases = df1[\"new_cases\"]\n",
    "total_deaths = df1[\"total_deaths\"]\n",
    "new_deaths = df1[\"new_deaths\"]\n",
    "total_cases_per_million = df1[\"total_cases_per_million\"]\n",
    "new_cases_per_million = df1[\"new_cases_per_million\"]\n",
    "total_deaths_per_million = df1[\"total_deaths_per_million\"]\n",
    "new_deaths_per_million = df1[\"new_deaths_per_million\"]\n",
    "new_tests = df1[\"new_tests\"]\n",
    "total_tests = df1[\"total_tests\"]\n",
    "total_tests_per_thousand = df1[\"total_tests_per_thousand\"]\n",
    "new_tests_per_thousand = df1[\"new_tests_per_thousand\"]\n",
    "new_tests_smoothed = df1[\"new_tests_smoothed\"]\n",
    "new_tests_smoothed_per_thousand = df1[\"new_tests_smoothed_per_thousand\"]\n",
    "tests_per_case = df1[\"tests_per_case\"]\n",
    "positive_rate = df1[\"positive_rate\"]\n",
    "tests_units = df1[\"tests_units\"]\n",
    "stringency_index = df1[\"stringency_index\"]\n",
    "population = df1[\"population\"]\n",
    "population_density = df1[\"population_density\"]\n",
    "median_age = df1[\"median_age\"]\n",
    "aged_65_older = df1[\"aged_65_older\"]\n",
    "aged_70_older = df1[\"aged_70_older\"]\n",
    "gdp_per_capita = df1[\"gdp_per_capita\"]\n",
    "extreme_poverty = df1[\"extreme_poverty\"]\n",
    "cardiovasc_death_rate = df1[\"cardiovasc_death_rate\"]\n",
    "diabetes_prevalence = df1[\"diabetes_prevalence\"]\n",
    "female_smokers = df1[\"female_smokers\"]\n",
    "male_smokers = df1[\"male_smokers\"]\n",
    "handwashing_facilities = df1[\"handwashing_facilities\"]\n",
    "hospital_beds_per_thousand = df1[\"hospital_beds_per_thousand\"]\n",
    "life_expectancy = df1[\"life_expectancy\"]"
   ]
  },
  {
   "cell_type": "markdown",
   "metadata": {},
   "source": [
    "## Plotting Histograms"
   ]
  },
  {
   "cell_type": "markdown",
   "metadata": {},
   "source": [
    "### 1)Total cases"
   ]
  },
  {
   "cell_type": "code",
   "execution_count": 25,
   "metadata": {},
   "outputs": [
    {
     "data": {
      "image/png": "[encoded data removed]",
      "text/plain": [
       "<Figure size 432x288 with 1 Axes>"
      ]
     },
     "metadata": {},
     "output_type": "display_data"
    }
   ],
   "source": [
    "sns.set()\n",
    "plt.hist(total_cases)\n",
    "plt.title(\"total cases\")\n",
    "plt.show()"
   ]
  },
  {
   "cell_type": "markdown",
   "metadata": {},
   "source": [
    "### 2)New cases "
   ]
  },
  {
   "cell_type": "code",
   "execution_count": 26,
   "metadata": {},
   "outputs": [
    {
     "data": {
      "image/png": "[encoded data removed]",
      "text/plain": [
       "<Figure size 432x288 with 1 Axes>"
      ]
     },
     "metadata": {},
     "output_type": "display_data"
    }
   ],
   "source": [
    "plt.hist(new_cases)\n",
    "plt.title(\"new cases\")\n",
    "plt.show()"
   ]
  },
  {
   "cell_type": "markdown",
   "metadata": {},
   "source": [
    "### 3)Total Deaths"
   ]
  },
  {
   "cell_type": "code",
   "execution_count": 27,
   "metadata": {},
   "outputs": [
    {
     "data": {
      "image/png": "[encoded data removed]",
      "text/plain": [
       "<Figure size 432x288 with 1 Axes>"
      ]
     },
     "metadata": {},
     "output_type": "display_data"
    }
   ],
   "source": [
    "plt.hist(total_deaths)\n",
    "plt.title(\"total deaths\")\n",
    "plt.show()"
   ]
  },
  {
   "cell_type": "markdown",
   "metadata": {},
   "source": [
    "### 4)New Deaths"
   ]
  },
  {
   "cell_type": "code",
   "execution_count": 28,
   "metadata": {},
   "outputs": [
    {
     "data": {
      "image/png": "[encoded data removed]",
      "text/plain": [
       "<Figure size 432x288 with 1 Axes>"
      ]
     },
     "metadata": {},
     "output_type": "display_data"
    }
   ],
   "source": [
    "plt.hist(new_deaths)\n",
    "plt.title(\"new deaths\")\n",
    "plt.show()"
   ]
  },
  {
   "cell_type": "markdown",
   "metadata": {},
   "source": [
    "### 5)Total cases per million"
   ]
  },
  {
   "cell_type": "code",
   "execution_count": 29,
   "metadata": {},
   "outputs": [
    {
     "data": {
      "image/png": "[encoded data removed]",
      "text/plain": [
       "<Figure size 432x288 with 1 Axes>"
      ]
     },
     "metadata": {},
     "output_type": "display_data"
    }
   ],
   "source": [
    "plt.hist(total_cases_per_million)\n",
    "plt.title(\"total_cases_per_million\")\n",
    "plt.show()"
   ]
  },
  {
   "cell_type": "markdown",
   "metadata": {},
   "source": [
    "### 6)New cases per million"
   ]
  },
  {
   "cell_type": "code",
   "execution_count": 30,
   "metadata": {},
   "outputs": [
    {
     "data": {
      "image/png": "[encoded data removed]",
      "text/plain": [
       "<Figure size 432x288 with 1 Axes>"
      ]
     },
     "metadata": {},
     "output_type": "display_data"
    }
   ],
   "source": [
    "plt.hist(new_cases_per_million)\n",
    "plt.title(\"new_cases_per_million\")\n",
    "plt.show()"
   ]
  },
  {
   "cell_type": "markdown",
   "metadata": {},
   "source": [
    "### 7)Total deaths per million"
   ]
  },
  {
   "cell_type": "code",
   "execution_count": 31,
   "metadata": {},
   "outputs": [
    {
     "data": {
      "image/png": "[encoded data removed]",
      "text/plain": [
       "<Figure size 432x288 with 1 Axes>"
      ]
     },
     "metadata": {},
     "output_type": "display_data"
    }
   ],
   "source": [
    "plt.hist(total_deaths_per_million)\n",
    "plt.title(\"total_deaths_per_million\")\n",
    "plt.show()"
   ]
  },
  {
   "cell_type": "markdown",
   "metadata": {},
   "source": [
    "### 8)New deaths per million"
   ]
  },
  {
   "cell_type": "code",
   "execution_count": 32,
   "metadata": {},
   "outputs": [
    {
     "data": {
      "image/png": "[encoded data removed]",
      "text/plain": [
       "<Figure size 432x288 with 1 Axes>"
      ]
     },
     "metadata": {},
     "output_type": "display_data"
    }
   ],
   "source": [
    "plt.hist(new_deaths_per_million)\n",
    "plt.title(\"new_deaths_per_million\")\n",
    "plt.show()"
   ]
  },
  {
   "cell_type": "markdown",
   "metadata": {},
   "source": [
    "### 9)New tests"
   ]
  },
  {
   "cell_type": "code",
   "execution_count": 33,
   "metadata": {},
   "outputs": [
    {
     "data": {
      "image/png": "[encoded data removed]",
      "text/plain": [
       "<Figure size 432x288 with 1 Axes>"
      ]
     },
     "metadata": {},
     "output_type": "display_data"
    }
   ],
   "source": [
    "plt.hist(new_tests)\n",
    "plt.title(\"new_tests\")\n",
    "plt.show()"
   ]
  },
  {
   "cell_type": "markdown",
   "metadata": {},
   "source": [
    "### 10)Total tests"
   ]
  },
  {
   "cell_type": "code",
   "execution_count": 34,
   "metadata": {},
   "outputs": [
    {
     "data": {
      "image/png": "[encoded data removed]",
      "text/plain": [
       "<Figure size 432x288 with 1 Axes>"
      ]
     },
     "metadata": {},
     "output_type": "display_data"
    }
   ],
   "source": [
    "plt.hist(total_tests)\n",
    "plt.title(\"total_tests\")\n",
    "plt.show()"
   ]
  },
  {
   "cell_type": "markdown",
   "metadata": {},
   "source": [
    "## Mean, Median & Mode"
   ]
  },
  {
   "cell_type": "code",
   "execution_count": 35,
   "metadata": {},
   "outputs": [
    {
     "name": "stdout",
     "output_type": "stream",
     "text": [
      "<class 'pandas.core.frame.DataFrame'>\n",
      "Int64Index: 227 entries, 15764 to 15990\n",
      "Data columns (total 36 columns):\n",
      " #   Column                           Non-Null Count  Dtype  \n",
      "---  ------                           --------------  -----  \n",
      " 0   iso_code                         227 non-null    object \n",
      " 1   continent                        227 non-null    object \n",
      " 2   location                         227 non-null    object \n",
      " 3   date                             227 non-null    object \n",
      " 4   total_cases                      227 non-null    float64\n",
      " 5   new_cases                        227 non-null    float64\n",
      " 6   total_deaths                     227 non-null    float64\n",
      " 7   new_deaths                       227 non-null    float64\n",
      " 8   total_cases_per_million          227 non-null    float64\n",
      " 9   new_cases_per_million            227 non-null    float64\n",
      " 10  total_deaths_per_million         227 non-null    float64\n",
      " 11  new_deaths_per_million           227 non-null    float64\n",
      " 12  new_tests                        227 non-null    float64\n",
      " 13  total_tests                      227 non-null    float64\n",
      " 14  total_tests_per_thousand         227 non-null    float64\n",
      " 15  new_tests_per_thousand           227 non-null    float64\n",
      " 16  new_tests_smoothed               227 non-null    float64\n",
      " 17  new_tests_smoothed_per_thousand  227 non-null    float64\n",
      " 18  tests_per_case                   227 non-null    float64\n",
      " 19  positive_rate                    227 non-null    float64\n",
      " 20  tests_units                      227 non-null    object \n",
      " 21  stringency_index                 227 non-null    float64\n",
      " 22  population                       227 non-null    float64\n",
      " 23  population_density               227 non-null    float64\n",
      " 24  median_age                       227 non-null    float64\n",
      " 25  aged_65_older                    227 non-null    float64\n",
      " 26  aged_70_older                    227 non-null    float64\n",
      " 27  gdp_per_capita                   227 non-null    float64\n",
      " 28  extreme_poverty                  227 non-null    float64\n",
      " 29  cardiovasc_death_rate            227 non-null    float64\n",
      " 30  diabetes_prevalence              227 non-null    float64\n",
      " 31  female_smokers                   227 non-null    float64\n",
      " 32  male_smokers                     227 non-null    float64\n",
      " 33  handwashing_facilities           227 non-null    float64\n",
      " 34  hospital_beds_per_thousand       227 non-null    float64\n",
      " 35  life_expectancy                  227 non-null    float64\n",
      "dtypes: float64(31), object(5)\n",
      "memory usage: 65.6+ KB\n"
     ]
    }
   ],
   "source": [
    "df1.info()"
   ]
  },
  {
   "cell_type": "markdown",
   "metadata": {},
   "source": [
    "### 1)Total cases"
   ]
  },
  {
   "cell_type": "code",
   "execution_count": 36,
   "metadata": {},
   "outputs": [
    {
     "name": "stdout",
     "output_type": "stream",
     "text": [
      "mean is: 328482.7268722467 median is: 21393.0 mode is: 0    0.0\n",
      "dtype: float64\n"
     ]
    }
   ],
   "source": [
    "mean = total_cases.mean()\n",
    "median = total_cases.median()\n",
    "mode = total_cases.mode()\n",
    "print('mean is:',mean , 'median is:',median ,'mode is:',mode)"
   ]
  },
  {
   "cell_type": "markdown",
   "metadata": {},
   "source": [
    "### 2)New cases"
   ]
  },
  {
   "cell_type": "code",
   "execution_count": 37,
   "metadata": {},
   "outputs": [
    {
     "name": "stdout",
     "output_type": "stream",
     "text": [
      "mean is: 10842.246696035243 median is: 1409.0 mode is: 0    0.0\n",
      "dtype: float64\n"
     ]
    }
   ],
   "source": [
    "mean = new_cases.mean()\n",
    "median = new_cases.median()\n",
    "mode = new_cases.mode()\n",
    "print('mean is:',mean , 'median is:',median ,'mode is:',mode)"
   ]
  },
  {
   "cell_type": "markdown",
   "metadata": {},
   "source": [
    "### 3)Total deaths"
   ]
  },
  {
   "cell_type": "code",
   "execution_count": 38,
   "metadata": {},
   "outputs": [
    {
     "name": "stdout",
     "output_type": "stream",
     "text": [
      "mean is: 7955.806167400881 median is: 681.0 mode is: 0    0.0\n",
      "dtype: float64\n"
     ]
    }
   ],
   "source": [
    "mean = total_deaths.mean()\n",
    "median = total_deaths.median()\n",
    "mode = total_deaths.mode()\n",
    "print('mean is:',mean , 'median is:',median ,'mode is:',mode)"
   ]
  },
  {
   "cell_type": "markdown",
   "metadata": {},
   "source": [
    "### 4)New deaths"
   ]
  },
  {
   "cell_type": "code",
   "execution_count": 39,
   "metadata": {},
   "outputs": [
    {
     "name": "stdout",
     "output_type": "stream",
     "text": [
      "mean is: 211.62995594713655 median is: 47.0 mode is: 0    0.0\n",
      "dtype: float64\n"
     ]
    }
   ],
   "source": [
    "mean = new_deaths.mean()\n",
    "median = new_deaths.median()\n",
    "mode = new_deaths.mode()\n",
    "print('mean is:',mean , 'median is:',median ,'mode is:',mode)"
   ]
  },
  {
   "cell_type": "markdown",
   "metadata": {},
   "source": [
    "### 5)Total cases per million"
   ]
  },
  {
   "cell_type": "code",
   "execution_count": 40,
   "metadata": {},
   "outputs": [
    {
     "name": "stdout",
     "output_type": "stream",
     "text": [
      "mean is: 238.03014977973564 median is: 15.502 mode is: 0    0.0\n",
      "dtype: float64\n"
     ]
    }
   ],
   "source": [
    "mean = total_cases_per_million.mean()\n",
    "median = total_cases_per_million.median()\n",
    "mode = total_cases_per_million.mode()\n",
    "print('mean is:',mean , 'median is:',median ,'mode is:',mode)"
   ]
  },
  {
   "cell_type": "markdown",
   "metadata": {},
   "source": [
    "### 6)New cases per million"
   ]
  },
  {
   "cell_type": "code",
   "execution_count": 41,
   "metadata": {},
   "outputs": [
    {
     "name": "stdout",
     "output_type": "stream",
     "text": [
      "mean is: 7.85666960352423 median is: 1.021 mode is: 0    0.0\n",
      "dtype: float64\n"
     ]
    }
   ],
   "source": [
    "mean = new_cases_per_million.mean()\n",
    "median = new_cases_per_million.median()\n",
    "mode = new_cases_per_million.mode()\n",
    "print('mean is:',mean , 'median is:',median ,'mode is:',mode)"
   ]
  },
  {
   "cell_type": "markdown",
   "metadata": {},
   "source": [
    "### 7)Total deaths per million"
   ]
  },
  {
   "cell_type": "code",
   "execution_count": 42,
   "metadata": {},
   "outputs": [
    {
     "name": "stdout",
     "output_type": "stream",
     "text": [
      "mean is: 5.76506167400881 median is: 0.493 mode is: 0    0.0\n",
      "dtype: float64\n"
     ]
    }
   ],
   "source": [
    "mean = total_deaths_per_million.mean()\n",
    "median = total_deaths_per_million.median()\n",
    "mode = total_deaths_per_million.mode()\n",
    "print('mean is:',mean , 'median is:',median ,'mode is:',mode)"
   ]
  },
  {
   "cell_type": "markdown",
   "metadata": {},
   "source": [
    "### 8)New deaths per million"
   ]
  },
  {
   "cell_type": "code",
   "execution_count": 43,
   "metadata": {},
   "outputs": [
    {
     "name": "stdout",
     "output_type": "stream",
     "text": [
      "mean is: 0.1533480176211454 median is: 0.034 mode is: 0    0.0\n",
      "dtype: float64\n"
     ]
    }
   ],
   "source": [
    "mean = new_deaths_per_million.mean()\n",
    "median = new_deaths_per_million.median()\n",
    "mode = new_deaths_per_million.mode()\n",
    "print('mean is:',mean , 'median is:',median ,'mode is:',mode)"
   ]
  },
  {
   "cell_type": "markdown",
   "metadata": {},
   "source": [
    "### 9)New tests"
   ]
  },
  {
   "cell_type": "code",
   "execution_count": 44,
   "metadata": {},
   "outputs": [
    {
     "name": "stdout",
     "output_type": "stream",
     "text": [
      "mean is: 121469.859030837 median is: 37000.0 mode is: 0    157.0\n",
      "dtype: float64\n"
     ]
    }
   ],
   "source": [
    "mean = new_tests.mean()\n",
    "median = new_tests.median()\n",
    "mode = new_tests.mode()\n",
    "print('mean is:',mean , 'median is:',median ,'mode is:',mode)"
   ]
  },
  {
   "cell_type": "markdown",
   "metadata": {},
   "source": [
    "### 10)Total tests"
   ]
  },
  {
   "cell_type": "code",
   "execution_count": 45,
   "metadata": {},
   "outputs": [
    {
     "name": "stdout",
     "output_type": "stream",
     "text": [
      "mean is: 4354373.21585903 median is: 500542.0 mode is: 0    6500.0\n",
      "dtype: float64\n"
     ]
    }
   ],
   "source": [
    "mean = total_tests.mean()\n",
    "median = total_tests.median()\n",
    "mode = total_tests.mode()\n",
    "print('mean is:',mean , 'median is:',median ,'mode is:',mode)"
   ]
  },
  {
   "cell_type": "markdown",
   "metadata": {},
   "source": [
    "### 11)Total tests per thousand"
   ]
  },
  {
   "cell_type": "code",
   "execution_count": 46,
   "metadata": {},
   "outputs": [
    {
     "name": "stdout",
     "output_type": "stream",
     "text": [
      "mean is: 3.1572995594713644 median is: 0.363 mode is: 0    0.01\n",
      "dtype: float64\n"
     ]
    }
   ],
   "source": [
    "mean = total_tests_per_thousand.mean()\n",
    "median = total_tests_per_thousand.median()\n",
    "mode = total_tests_per_thousand.mode()\n",
    "print('mean is:',mean , 'median is:',median ,'mode is:',mode)"
   ]
  },
  {
   "cell_type": "markdown",
   "metadata": {},
   "source": [
    "### 12)New tests per thousand"
   ]
  },
  {
   "cell_type": "code",
   "execution_count": 47,
   "metadata": {},
   "outputs": [
    {
     "name": "stdout",
     "output_type": "stream",
     "text": [
      "mean is: 0.0883832599118943 median is: 0.027000000000000003 mode is: 0    0.001\n",
      "dtype: float64\n"
     ]
    }
   ],
   "source": [
    "mean = new_tests_per_thousand.mean()\n",
    "median = new_tests_per_thousand.median()\n",
    "mode = new_tests_per_thousand.mode()\n",
    "print('mean is:',mean , 'median is:',median ,'mode is:',mode)"
   ]
  },
  {
   "cell_type": "markdown",
   "metadata": {},
   "source": [
    "### 13)new_tests_smoothed"
   ]
  },
  {
   "cell_type": "code",
   "execution_count": 48,
   "metadata": {},
   "outputs": [
    {
     "name": "stdout",
     "output_type": "stream",
     "text": [
      "mean is: 112312.4140969163 median is: 29691.0 mode is: 0    1125.0\n",
      "dtype: float64\n"
     ]
    }
   ],
   "source": [
    "mean = new_tests_smoothed.mean()\n",
    "median = new_tests_smoothed.median()\n",
    "mode = new_tests_smoothed.mode()\n",
    "print('mean is:',mean , 'median is:',median ,'mode is:',mode)"
   ]
  },
  {
   "cell_type": "markdown",
   "metadata": {},
   "source": [
    "### 14)New tests smoothed per thousand"
   ]
  },
  {
   "cell_type": "code",
   "execution_count": 49,
   "metadata": {},
   "outputs": [
    {
     "name": "stdout",
     "output_type": "stream",
     "text": [
      "mean is: 0.08144493392070488 median is: 0.022000000000000002 mode is: 0    0.001\n",
      "dtype: float64\n"
     ]
    }
   ],
   "source": [
    "mean = new_tests_smoothed_per_thousand.mean()\n",
    "median = new_tests_smoothed_per_thousand.median()\n",
    "mode = new_tests_smoothed_per_thousand.mode()\n",
    "print('mean is:',mean , 'median is:',median ,'mode is:',mode)"
   ]
  },
  {
   "cell_type": "markdown",
   "metadata": {},
   "source": [
    "### 15)New tests smoothed_per thousand"
   ]
  },
  {
   "cell_type": "code",
   "execution_count": 50,
   "metadata": {},
   "outputs": [
    {
     "name": "stdout",
     "output_type": "stream",
     "text": [
      "mean is: 0.08144493392070488 median is: 0.022000000000000002 mode is: 0    0.001\n",
      "dtype: float64\n"
     ]
    }
   ],
   "source": [
    "mean = new_tests_smoothed_per_thousand.mean()\n",
    "median = new_tests_smoothed_per_thousand.median()\n",
    "mode = new_tests_smoothed_per_thousand.mode()\n",
    "print('mean is:',mean , 'median is:',median ,'mode is:',mode)"
   ]
  },
  {
   "cell_type": "markdown",
   "metadata": {},
   "source": [
    "### 16)Positive rate"
   ]
  },
  {
   "cell_type": "code",
   "execution_count": 51,
   "metadata": {},
   "outputs": [
    {
     "name": "stdout",
     "output_type": "stream",
     "text": [
      "mean is: 0.05558149779735683 median is: 0.039 mode is: 0    0.039\n",
      "dtype: float64\n"
     ]
    }
   ],
   "source": [
    "mean = positive_rate.mean()\n",
    "median = positive_rate.median()\n",
    "mode = positive_rate.mode()\n",
    "print('mean is:',mean , 'median is:',median ,'mode is:',mode)"
   ]
  },
  {
   "cell_type": "markdown",
   "metadata": {},
   "source": [
    "### 17)Stringency index"
   ]
  },
  {
   "cell_type": "code",
   "execution_count": 52,
   "metadata": {},
   "outputs": [
    {
     "name": "stdout",
     "output_type": "stream",
     "text": [
      "mean is: 56.56405286343613 median is: 76.39 mode is: 0    10.19\n",
      "dtype: float64\n"
     ]
    }
   ],
   "source": [
    "mean = stringency_index.mean()\n",
    "median = stringency_index.median()\n",
    "mode = stringency_index.mode()\n",
    "print('mean is:',mean , 'median is:',median ,'mode is:',mode)"
   ]
  },
  {
   "cell_type": "markdown",
   "metadata": {},
   "source": [
    "### 18)Population"
   ]
  },
  {
   "cell_type": "code",
   "execution_count": 53,
   "metadata": {},
   "outputs": [
    {
     "name": "stdout",
     "output_type": "stream",
     "text": [
      "mean is: 1380004385.0 median is: 1380004385.0 mode is: 0    1.380004e+09\n",
      "dtype: float64\n"
     ]
    }
   ],
   "source": [
    "mean = population.mean()\n",
    "median = population.median()\n",
    "mode = population.mode()\n",
    "print('mean is:',mean , 'median is:',median ,'mode is:',mode)"
   ]
  },
  {
   "cell_type": "markdown",
   "metadata": {},
   "source": [
    "### 19)Population density"
   ]
  },
  {
   "cell_type": "code",
   "execution_count": 54,
   "metadata": {},
   "outputs": [
    {
     "name": "stdout",
     "output_type": "stream",
     "text": [
      "mean is: 450.4189999999988 median is: 450.41900000000004 mode is: 0    450.419\n",
      "dtype: float64\n"
     ]
    }
   ],
   "source": [
    "mean = population_density.mean()\n",
    "median = population_density.median()\n",
    "mode = population_density.mode()\n",
    "print('mean is:',mean , 'median is:',median ,'mode is:',mode)"
   ]
  },
  {
   "cell_type": "markdown",
   "metadata": {},
   "source": [
    "### 20)Median age"
   ]
  },
  {
   "cell_type": "code",
   "execution_count": 55,
   "metadata": {},
   "outputs": [
    {
     "name": "stdout",
     "output_type": "stream",
     "text": [
      "mean is: 28.199999999999886 median is: 28.2 mode is: 0    28.2\n",
      "dtype: float64\n"
     ]
    }
   ],
   "source": [
    "mean = median_age.mean()\n",
    "median = median_age.median()\n",
    "mode = median_age.mode()\n",
    "print('mean is:',mean , 'median is:',median ,'mode is:',mode)"
   ]
  },
  {
   "cell_type": "markdown",
   "metadata": {},
   "source": [
    "### 21)Aged 65 older"
   ]
  },
  {
   "cell_type": "code",
   "execution_count": 56,
   "metadata": {},
   "outputs": [
    {
     "name": "stdout",
     "output_type": "stream",
     "text": [
      "mean is: 5.989000000000016 median is: 5.989 mode is: 0    5.989\n",
      "dtype: float64\n"
     ]
    }
   ],
   "source": [
    "mean = aged_65_older.mean()\n",
    "median = aged_65_older.median()\n",
    "mode = aged_65_older.mode()\n",
    "print('mean is:',mean , 'median is:',median ,'mode is:',mode)"
   ]
  },
  {
   "cell_type": "markdown",
   "metadata": {},
   "source": [
    "### 22)Aged 70 older"
   ]
  },
  {
   "cell_type": "code",
   "execution_count": 57,
   "metadata": {},
   "outputs": [
    {
     "name": "stdout",
     "output_type": "stream",
     "text": [
      "mean is: 3.41399999999999 median is: 3.4139999999999997 mode is: 0    3.414\n",
      "dtype: float64\n"
     ]
    }
   ],
   "source": [
    "mean = aged_70_older.mean()\n",
    "median = aged_70_older.median()\n",
    "mode = aged_70_older.mode()\n",
    "print('mean is:',mean , 'median is:',median ,'mode is:',mode)"
   ]
  },
  {
   "cell_type": "markdown",
   "metadata": {},
   "source": [
    "### 23)Gdp per capita"
   ]
  },
  {
   "cell_type": "code",
   "execution_count": 58,
   "metadata": {},
   "outputs": [
    {
     "name": "stdout",
     "output_type": "stream",
     "text": [
      "mean is: 6426.674000000033 median is: 6426.674 mode is: 0    6426.674\n",
      "dtype: float64\n"
     ]
    }
   ],
   "source": [
    "mean = gdp_per_capita.mean()\n",
    "median = gdp_per_capita.median()\n",
    "mode = gdp_per_capita.mode()\n",
    "print('mean is:',mean , 'median is:',median ,'mode is:',mode)"
   ]
  },
  {
   "cell_type": "markdown",
   "metadata": {},
   "source": [
    "### 24)Extreme poverty"
   ]
  },
  {
   "cell_type": "code",
   "execution_count": 59,
   "metadata": {},
   "outputs": [
    {
     "name": "stdout",
     "output_type": "stream",
     "text": [
      "mean is: 21.19999999999991 median is: 21.2 mode is: 0    21.2\n",
      "dtype: float64\n"
     ]
    }
   ],
   "source": [
    "mean = extreme_poverty.mean()\n",
    "median = extreme_poverty.median()\n",
    "mode = extreme_poverty.mode()\n",
    "print('mean is:',mean , 'median is:',median ,'mode is:',mode)"
   ]
  },
  {
   "cell_type": "markdown",
   "metadata": {},
   "source": [
    "### 25)Cardiovasc death_rate"
   ]
  },
  {
   "cell_type": "code",
   "execution_count": 60,
   "metadata": {},
   "outputs": [
    {
     "name": "stdout",
     "output_type": "stream",
     "text": [
      "mean is: 282.2799999999992 median is: 282.28 mode is: 0    282.28\n",
      "dtype: float64\n"
     ]
    }
   ],
   "source": [
    "mean = cardiovasc_death_rate.mean()\n",
    "median = cardiovasc_death_rate.median()\n",
    "mode = cardiovasc_death_rate.mode()\n",
    "print('mean is:',mean , 'median is:',median ,'mode is:',mode)"
   ]
  },
  {
   "cell_type": "markdown",
   "metadata": {},
   "source": [
    "### 26)Diabetes prevalence"
   ]
  },
  {
   "cell_type": "code",
   "execution_count": 61,
   "metadata": {},
   "outputs": [
    {
     "name": "stdout",
     "output_type": "stream",
     "text": [
      "mean is: 10.390000000000024 median is: 10.39 mode is: 0    10.39\n",
      "dtype: float64\n"
     ]
    }
   ],
   "source": [
    "mean = diabetes_prevalence.mean()\n",
    "median = diabetes_prevalence.median()\n",
    "mode = diabetes_prevalence.mode()\n",
    "print('mean is:',mean , 'median is:',median ,'mode is:',mode)"
   ]
  },
  {
   "cell_type": "markdown",
   "metadata": {},
   "source": [
    "### 27)Female smokers"
   ]
  },
  {
   "cell_type": "code",
   "execution_count": 62,
   "metadata": {},
   "outputs": [
    {
     "name": "stdout",
     "output_type": "stream",
     "text": [
      "mean is: 1.899999999999993 median is: 1.9 mode is: 0    1.9\n",
      "dtype: float64\n"
     ]
    }
   ],
   "source": [
    "mean = female_smokers.mean()\n",
    "median = female_smokers.median()\n",
    "mode = female_smokers.mode()\n",
    "print('mean is:',mean , 'median is:',median ,'mode is:',mode)"
   ]
  },
  {
   "cell_type": "markdown",
   "metadata": {},
   "source": [
    "### 28)Male smokers"
   ]
  },
  {
   "cell_type": "code",
   "execution_count": 63,
   "metadata": {},
   "outputs": [
    {
     "name": "stdout",
     "output_type": "stream",
     "text": [
      "mean is: 20.59999999999999 median is: 20.6 mode is: 0    20.6\n",
      "dtype: float64\n"
     ]
    }
   ],
   "source": [
    "mean = male_smokers.mean()\n",
    "median = male_smokers.median()\n",
    "mode = male_smokers.mode()\n",
    "print('mean is:',mean , 'median is:',median ,'mode is:',mode)"
   ]
  },
  {
   "cell_type": "markdown",
   "metadata": {},
   "source": [
    "### 29)Handwashing facilities"
   ]
  },
  {
   "cell_type": "code",
   "execution_count": 64,
   "metadata": {},
   "outputs": [
    {
     "name": "stdout",
     "output_type": "stream",
     "text": [
      "mean is: 59.54999999999979 median is: 59.55 mode is: 0    59.55\n",
      "dtype: float64\n"
     ]
    }
   ],
   "source": [
    "mean = handwashing_facilities.mean()\n",
    "median = handwashing_facilities.median()\n",
    "mode = handwashing_facilities.mode()\n",
    "print('mean is:',mean , 'median is:',median ,'mode is:',mode)"
   ]
  },
  {
   "cell_type": "markdown",
   "metadata": {},
   "source": [
    "### 30)Hospital beds per thousand"
   ]
  },
  {
   "cell_type": "code",
   "execution_count": 65,
   "metadata": {},
   "outputs": [
    {
     "name": "stdout",
     "output_type": "stream",
     "text": [
      "mean is: 0.5300000000000009 median is: 0.53 mode is: 0    0.53\n",
      "dtype: float64\n"
     ]
    }
   ],
   "source": [
    "mean = hospital_beds_per_thousand.mean()\n",
    "median = hospital_beds_per_thousand.median()\n",
    "mode = hospital_beds_per_thousand.mode()\n",
    "print('mean is:',mean , 'median is:',median ,'mode is:',mode)"
   ]
  },
  {
   "cell_type": "markdown",
   "metadata": {},
   "source": [
    "### 31)Life expectancy"
   ]
  },
  {
   "cell_type": "code",
   "execution_count": 66,
   "metadata": {},
   "outputs": [
    {
     "name": "stdout",
     "output_type": "stream",
     "text": [
      "mean is: 69.65999999999988 median is: 69.66 mode is: 0    69.66\n",
      "dtype: float64\n"
     ]
    }
   ],
   "source": [
    "mean = life_expectancy.mean()\n",
    "median = life_expectancy.median()\n",
    "mode = life_expectancy.mode()\n",
    "print('mean is:',mean , 'median is:',median ,'mode is:',mode)"
   ]
  },
  {
   "cell_type": "markdown",
   "metadata": {},
   "source": [
    "# Bivariate Analysis"
   ]
  },
  {
   "cell_type": "markdown",
   "metadata": {},
   "source": [
    "## Scatter plots"
   ]
  },
  {
   "cell_type": "code",
   "execution_count": 67,
   "metadata": {},
   "outputs": [
    {
     "name": "stdout",
     "output_type": "stream",
     "text": [
      "<class 'pandas.core.frame.DataFrame'>\n",
      "Int64Index: 227 entries, 15764 to 15990\n",
      "Data columns (total 36 columns):\n",
      " #   Column                           Non-Null Count  Dtype  \n",
      "---  ------                           --------------  -----  \n",
      " 0   iso_code                         227 non-null    object \n",
      " 1   continent                        227 non-null    object \n",
      " 2   location                         227 non-null    object \n",
      " 3   date                             227 non-null    object \n",
      " 4   total_cases                      227 non-null    float64\n",
      " 5   new_cases                        227 non-null    float64\n",
      " 6   total_deaths                     227 non-null    float64\n",
      " 7   new_deaths                       227 non-null    float64\n",
      " 8   total_cases_per_million          227 non-null    float64\n",
      " 9   new_cases_per_million            227 non-null    float64\n",
      " 10  total_deaths_per_million         227 non-null    float64\n",
      " 11  new_deaths_per_million           227 non-null    float64\n",
      " 12  new_tests                        227 non-null    float64\n",
      " 13  total_tests                      227 non-null    float64\n",
      " 14  total_tests_per_thousand         227 non-null    float64\n",
      " 15  new_tests_per_thousand           227 non-null    float64\n",
      " 16  new_tests_smoothed               227 non-null    float64\n",
      " 17  new_tests_smoothed_per_thousand  227 non-null    float64\n",
      " 18  tests_per_case                   227 non-null    float64\n",
      " 19  positive_rate                    227 non-null    float64\n",
      " 20  tests_units                      227 non-null    object \n",
      " 21  stringency_index                 227 non-null    float64\n",
      " 22  population                       227 non-null    float64\n",
      " 23  population_density               227 non-null    float64\n",
      " 24  median_age                       227 non-null    float64\n",
      " 25  aged_65_older                    227 non-null    float64\n",
      " 26  aged_70_older                    227 non-null    float64\n",
      " 27  gdp_per_capita                   227 non-null    float64\n",
      " 28  extreme_poverty                  227 non-null    float64\n",
      " 29  cardiovasc_death_rate            227 non-null    float64\n",
      " 30  diabetes_prevalence              227 non-null    float64\n",
      " 31  female_smokers                   227 non-null    float64\n",
      " 32  male_smokers                     227 non-null    float64\n",
      " 33  handwashing_facilities           227 non-null    float64\n",
      " 34  hospital_beds_per_thousand       227 non-null    float64\n",
      " 35  life_expectancy                  227 non-null    float64\n",
      "dtypes: float64(31), object(5)\n",
      "memory usage: 65.6+ KB\n"
     ]
    }
   ],
   "source": [
    "df1.info()"
   ]
  },
  {
   "cell_type": "markdown",
   "metadata": {},
   "source": [
    "### 1)Total cases vs New cases"
   ]
  },
  {
   "cell_type": "code",
   "execution_count": 68,
   "metadata": {},
   "outputs": [
    {
     "data": {
      "image/png": "[encoded data removed]",
      "text/plain": [
       "<Figure size 432x288 with 1 Axes>"
      ]
     },
     "metadata": {},
     "output_type": "display_data"
    }
   ],
   "source": [
    "plt.scatter(total_cases,new_cases)\n",
    "plt.xlabel('Total_cases')\n",
    "plt.ylabel('New_cases')\n",
    "plt.show()"
   ]
  },
  {
   "cell_type": "markdown",
   "metadata": {},
   "source": [
    "### 2)Total cases vs Total deaths"
   ]
  },
  {
   "cell_type": "code",
   "execution_count": 69,
   "metadata": {},
   "outputs": [
    {
     "data": {
      "image/png": "[encoded data removed]",
      "text/plain": [
       "<Figure size 432x288 with 1 Axes>"
      ]
     },
     "metadata": {},
     "output_type": "display_data"
    }
   ],
   "source": [
    "plt.scatter(total_cases,total_deaths)\n",
    "plt.xlabel('Total cases')\n",
    "plt.ylabel('Total deaths')\n",
    "plt.show()"
   ]
  },
  {
   "cell_type": "markdown",
   "metadata": {},
   "source": [
    "### 3)Total cases vs New deaths"
   ]
  },
  {
   "cell_type": "code",
   "execution_count": 70,
   "metadata": {},
   "outputs": [
    {
     "data": {
      "image/png": "[encoded data removed]",
      "text/plain": [
       "<Figure size 432x288 with 1 Axes>"
      ]
     },
     "metadata": {},
     "output_type": "display_data"
    }
   ],
   "source": [
    "plt.scatter(total_cases,new_deaths)\n",
    "plt.xlabel('Total cases')\n",
    "plt.ylabel('New deaths')\n",
    "plt.show()"
   ]
  },
  {
   "cell_type": "markdown",
   "metadata": {},
   "source": [
    "### 4)Total cases vs Total cases per million"
   ]
  },
  {
   "cell_type": "code",
   "execution_count": 71,
   "metadata": {},
   "outputs": [
    {
     "data": {
      "image/png": "[encoded data removed]",
      "text/plain": [
       "<Figure size 432x288 with 1 Axes>"
      ]
     },
     "metadata": {},
     "output_type": "display_data"
    }
   ],
   "source": [
    "plt.scatter(total_cases,total_cases_per_million)\n",
    "plt.xlabel('Total cases')\n",
    "plt.ylabel('Total cases per million')\n",
    "plt.show()"
   ]
  },
  {
   "cell_type": "markdown",
   "metadata": {},
   "source": [
    "### 5)Total cases vs New cases per million"
   ]
  },
  {
   "cell_type": "code",
   "execution_count": 72,
   "metadata": {},
   "outputs": [
    {
     "data": {
      "image/png": "[encoded data removed]",
      "text/plain": [
       "<Figure size 432x288 with 1 Axes>"
      ]
     },
     "metadata": {},
     "output_type": "display_data"
    }
   ],
   "source": [
    "plt.scatter(total_cases,new_cases_per_million)\n",
    "plt.xlabel('Total cases')\n",
    "plt.ylabel('New cases per million')\n",
    "plt.show()"
   ]
  },
  {
   "cell_type": "markdown",
   "metadata": {},
   "source": [
    "### 6)Total cases vs Total deaths per million"
   ]
  },
  {
   "cell_type": "code",
   "execution_count": 73,
   "metadata": {},
   "outputs": [
    {
     "data": {
      "image/png": "[encoded data removed]",
      "text/plain": [
       "<Figure size 432x288 with 1 Axes>"
      ]
     },
     "metadata": {},
     "output_type": "display_data"
    }
   ],
   "source": [
    "plt.scatter(total_cases,total_deaths_per_million)\n",
    "plt.xlabel('Total cases')\n",
    "plt.ylabel('Total deaths per million')\n",
    "plt.show()"
   ]
  },
  {
   "cell_type": "markdown",
   "metadata": {},
   "source": [
    "### 7)Total cases vs New deaths per million"
   ]
  },
  {
   "cell_type": "code",
   "execution_count": 74,
   "metadata": {},
   "outputs": [
    {
     "data": {
      "image/png": "[encoded data removed]",
      "text/plain": [
       "<Figure size 432x288 with 1 Axes>"
      ]
     },
     "metadata": {},
     "output_type": "display_data"
    }
   ],
   "source": [
    "plt.scatter(total_cases,new_deaths_per_million)\n",
    "plt.xlabel('Total cases')\n",
    "plt.ylabel('New deaths per million')\n",
    "plt.show()"
   ]
  },
  {
   "cell_type": "markdown",
   "metadata": {},
   "source": [
    "### 8)Total cases vs New tests  "
   ]
  },
  {
   "cell_type": "code",
   "execution_count": 75,
   "metadata": {},
   "outputs": [
    {
     "data": {
      "image/png": "[encoded data removed]",
      "text/plain": [
       "<Figure size 432x288 with 1 Axes>"
      ]
     },
     "metadata": {},
     "output_type": "display_data"
    }
   ],
   "source": [
    "plt.scatter(total_cases,new_tests)\n",
    "plt.xlabel('Total cases ')\n",
    "plt.ylabel('New tests')\n",
    "plt.show()"
   ]
  },
  {
   "cell_type": "markdown",
   "metadata": {},
   "source": [
    "### 9)Total cases vs Total tests"
   ]
  },
  {
   "cell_type": "code",
   "execution_count": 76,
   "metadata": {},
   "outputs": [
    {
     "data": {
      "image/png": "[encoded data removed]",
      "text/plain": [
       "<Figure size 432x288 with 1 Axes>"
      ]
     },
     "metadata": {},
     "output_type": "display_data"
    }
   ],
   "source": [
    "plt.scatter(total_cases,total_tests)\n",
    "plt.xlabel('Total cases')\n",
    "plt.ylabel('Total tests')\n",
    "plt.show()"
   ]
  },
  {
   "cell_type": "markdown",
   "metadata": {},
   "source": [
    "### 10Total cases vs Total tests per thousand"
   ]
  },
  {
   "cell_type": "code",
   "execution_count": 77,
   "metadata": {},
   "outputs": [
    {
     "data": {
      "image/png": "[encoded data removed]",
      "text/plain": [
       "<Figure size 432x288 with 1 Axes>"
      ]
     },
     "metadata": {},
     "output_type": "display_data"
    }
   ],
   "source": [
    "plt.scatter(total_cases,total_tests_per_thousand)\n",
    "plt.xlabel('Total cases')\n",
    "plt.ylabel('Total tests per thousand')\n",
    "plt.show()"
   ]
  },
  {
   "cell_type": "markdown",
   "metadata": {},
   "source": [
    "## Line Plot"
   ]
  },
  {
   "cell_type": "markdown",
   "metadata": {},
   "source": [
    "### 1)Total cases vs New cases"
   ]
  },
  {
   "cell_type": "code",
   "execution_count": 78,
   "metadata": {},
   "outputs": [
    {
     "data": {
      "image/png": "[encoded data removed]",
      "text/plain": [
       "<Figure size 432x288 with 1 Axes>"
      ]
     },
     "metadata": {},
     "output_type": "display_data"
    }
   ],
   "source": [
    "plt.plot(total_cases,new_cases)\n",
    "plt.xlabel('Total_cases')\n",
    "plt.ylabel('New_cases')\n",
    "plt.show()"
   ]
  },
  {
   "cell_type": "markdown",
   "metadata": {},
   "source": [
    "### 2)Total cases vs Total deaths"
   ]
  },
  {
   "cell_type": "code",
   "execution_count": 79,
   "metadata": {},
   "outputs": [
    {
     "data": {
      "image/png": "[encoded data removed]",
      "text/plain": [
       "<Figure size 432x288 with 1 Axes>"
      ]
     },
     "metadata": {},
     "output_type": "display_data"
    }
   ],
   "source": [
    "plt.plot(total_cases,total_deaths)\n",
    "plt.xlabel('Total cases')\n",
    "plt.ylabel('Total deaths')\n",
    "plt.show()"
   ]
  },
  {
   "cell_type": "markdown",
   "metadata": {},
   "source": [
    "### 3)Total cases vs New deaths"
   ]
  },
  {
   "cell_type": "code",
   "execution_count": 80,
   "metadata": {},
   "outputs": [
    {
     "data": {
      "image/png": "[encoded data removed]",
      "text/plain": [
       "<Figure size 432x288 with 1 Axes>"
      ]
     },
     "metadata": {},
     "output_type": "display_data"
    }
   ],
   "source": [
    "plt.plot(total_cases,new_deaths)\n",
    "plt.xlabel('Total cases')\n",
    "plt.ylabel('New deaths')\n",
    "plt.show()"
   ]
  },
  {
   "cell_type": "markdown",
   "metadata": {},
   "source": [
    "### 4)Total cases vs Total cases per million"
   ]
  },
  {
   "cell_type": "code",
   "execution_count": 81,
   "metadata": {},
   "outputs": [
    {
     "data": {
      "image/png": "[encoded data removed]",
      "text/plain": [
       "<Figure size 432x288 with 1 Axes>"
      ]
     },
     "metadata": {},
     "output_type": "display_data"
    }
   ],
   "source": [
    "plt.plot(total_cases,total_cases_per_million)\n",
    "plt.xlabel('Total cases')\n",
    "plt.ylabel('Total cases per million')\n",
    "plt.show()"
   ]
  },
  {
   "cell_type": "markdown",
   "metadata": {},
   "source": [
    "### 5)Total cases vs New cases per million"
   ]
  },
  {
   "cell_type": "code",
   "execution_count": 82,
   "metadata": {},
   "outputs": [
    {
     "data": {
      "image/png": "[encoded data removed]",
      "text/plain": [
       "<Figure size 432x288 with 1 Axes>"
      ]
     },
     "metadata": {},
     "output_type": "display_data"
    }
   ],
   "source": [
    "plt.plot(total_cases,new_cases_per_million)\n",
    "plt.xlabel('Total cases')\n",
    "plt.ylabel('New cases per million')\n",
    "plt.show()"
   ]
  },
  {
   "cell_type": "markdown",
   "metadata": {},
   "source": [
    "### 6)Total cases vs Total deaths per million"
   ]
  },
  {
   "cell_type": "code",
   "execution_count": 83,
   "metadata": {},
   "outputs": [
    {
     "data": {
      "image/png": "[encoded data removed]",
      "text/plain": [
       "<Figure size 432x288 with 1 Axes>"
      ]
     },
     "metadata": {},
     "output_type": "display_data"
    }
   ],
   "source": [
    "plt.plot(total_cases,total_deaths_per_million)\n",
    "plt.xlabel('Total cases')\n",
    "plt.ylabel('Total deaths per million')\n",
    "plt.show()"
   ]
  },
  {
   "cell_type": "markdown",
   "metadata": {},
   "source": [
    "### 7)Total cases vs New deaths per million"
   ]
  },
  {
   "cell_type": "code",
   "execution_count": 84,
   "metadata": {},
   "outputs": [
    {
     "data": {
      "image/png": "[encoded data removed]",
      "text/plain": [
       "<Figure size 432x288 with 1 Axes>"
      ]
     },
     "metadata": {},
     "output_type": "display_data"
    }
   ],
   "source": [
    "plt.plot(total_cases,new_deaths_per_million)\n",
    "plt.xlabel('Total cases')\n",
    "plt.ylabel('New deaths per million')\n",
    "plt.show()"
   ]
  },
  {
   "cell_type": "markdown",
   "metadata": {},
   "source": [
    "###  8)Total cases vs New tests  "
   ]
  },
  {
   "cell_type": "code",
   "execution_count": 85,
   "metadata": {},
   "outputs": [
    {
     "data": {
      "image/png": "[encoded data removed]",
      "text/plain": [
       "<Figure size 432x288 with 1 Axes>"
      ]
     },
     "metadata": {},
     "output_type": "display_data"
    }
   ],
   "source": [
    "plt.plot(total_cases,new_tests)\n",
    "plt.xlabel('Total cases ')\n",
    "plt.ylabel('New tests')\n",
    "plt.show()"
   ]
  },
  {
   "cell_type": "markdown",
   "metadata": {},
   "source": [
    "### 9)Total cases vs Total tests"
   ]
  },
  {
   "cell_type": "code",
   "execution_count": 86,
   "metadata": {},
   "outputs": [
    {
     "data": {
      "image/png": "[encoded data removed]",
      "text/plain": [
       "<Figure size 432x288 with 1 Axes>"
      ]
     },
     "metadata": {},
     "output_type": "display_data"
    }
   ],
   "source": [
    "plt.plot(total_cases,total_tests)\n",
    "plt.xlabel('Total cases')\n",
    "plt.ylabel('Total tests')\n",
    "plt.show()"
   ]
  },
  {
   "cell_type": "markdown",
   "metadata": {},
   "source": [
    "### 10Total cases vs Total tests per thousand"
   ]
  },
  {
   "cell_type": "code",
   "execution_count": 87,
   "metadata": {},
   "outputs": [
    {
     "data": {
      "image/png": "[encoded data removed]",
      "text/plain": [
       "<Figure size 432x288 with 1 Axes>"
      ]
     },
     "metadata": {},
     "output_type": "display_data"
    }
   ],
   "source": [
    "plt.plot(total_cases,total_tests_per_thousand)\n",
    "plt.xlabel('Total cases')\n",
    "plt.ylabel('Total tests per thousand')\n",
    "plt.show()"
   ]
  },
  {
   "cell_type": "markdown",
   "metadata": {},
   "source": [
    "# Convert date column to ordinal"
   ]
  },
  {
   "cell_type": "code",
   "execution_count": 88,
   "metadata": {},
   "outputs": [
    {
     "name": "stderr",
     "output_type": "stream",
     "text": [
      "<ipython-input-88-63cf60f9800e>:2: SettingWithCopyWarning: \n",
      "A value is trying to be set on a copy of a slice from a DataFrame.\n",
      "Try using .loc[row_indexer,col_indexer] = value instead\n",
      "\n",
      "See the caveats in the documentation: https://pandas.pydata.org/pandas-docs/stable/user_guide/indexing.html#returning-a-view-versus-a-copy\n",
      "  df1[\"date\"]=pd.to_datetime(df1[\"date\"])\n",
      "<ipython-input-88-63cf60f9800e>:3: SettingWithCopyWarning: \n",
      "A value is trying to be set on a copy of a slice from a DataFrame.\n",
      "Try using .loc[row_indexer,col_indexer] = value instead\n",
      "\n",
      "See the caveats in the documentation: https://pandas.pydata.org/pandas-docs/stable/user_guide/indexing.html#returning-a-view-versus-a-copy\n",
      "  df1[\"date\"]=df1[\"date\"].map(dt.datetime.toordinal)\n"
     ]
    }
   ],
   "source": [
    "import datetime as dt\n",
    "df1[\"date\"]=pd.to_datetime(df1[\"date\"])\n",
    "df1[\"date\"]=df1[\"date\"].map(dt.datetime.toordinal)"
   ]
  },
  {
   "cell_type": "code",
   "execution_count": 89,
   "metadata": {},
   "outputs": [
    {
     "name": "stdout",
     "output_type": "stream",
     "text": [
      "<class 'pandas.core.frame.DataFrame'>\n",
      "Int64Index: 227 entries, 15764 to 15990\n",
      "Data columns (total 36 columns):\n",
      " #   Column                           Non-Null Count  Dtype  \n",
      "---  ------                           --------------  -----  \n",
      " 0   iso_code                         227 non-null    object \n",
      " 1   continent                        227 non-null    object \n",
      " 2   location                         227 non-null    object \n",
      " 3   date                             227 non-null    int64  \n",
      " 4   total_cases                      227 non-null    float64\n",
      " 5   new_cases                        227 non-null    float64\n",
      " 6   total_deaths                     227 non-null    float64\n",
      " 7   new_deaths                       227 non-null    float64\n",
      " 8   total_cases_per_million          227 non-null    float64\n",
      " 9   new_cases_per_million            227 non-null    float64\n",
      " 10  total_deaths_per_million         227 non-null    float64\n",
      " 11  new_deaths_per_million           227 non-null    float64\n",
      " 12  new_tests                        227 non-null    float64\n",
      " 13  total_tests                      227 non-null    float64\n",
      " 14  total_tests_per_thousand         227 non-null    float64\n",
      " 15  new_tests_per_thousand           227 non-null    float64\n",
      " 16  new_tests_smoothed               227 non-null    float64\n",
      " 17  new_tests_smoothed_per_thousand  227 non-null    float64\n",
      " 18  tests_per_case                   227 non-null    float64\n",
      " 19  positive_rate                    227 non-null    float64\n",
      " 20  tests_units                      227 non-null    object \n",
      " 21  stringency_index                 227 non-null    float64\n",
      " 22  population                       227 non-null    float64\n",
      " 23  population_density               227 non-null    float64\n",
      " 24  median_age                       227 non-null    float64\n",
      " 25  aged_65_older                    227 non-null    float64\n",
      " 26  aged_70_older                    227 non-null    float64\n",
      " 27  gdp_per_capita                   227 non-null    float64\n",
      " 28  extreme_poverty                  227 non-null    float64\n",
      " 29  cardiovasc_death_rate            227 non-null    float64\n",
      " 30  diabetes_prevalence              227 non-null    float64\n",
      " 31  female_smokers                   227 non-null    float64\n",
      " 32  male_smokers                     227 non-null    float64\n",
      " 33  handwashing_facilities           227 non-null    float64\n",
      " 34  hospital_beds_per_thousand       227 non-null    float64\n",
      " 35  life_expectancy                  227 non-null    float64\n",
      "dtypes: float64(31), int64(1), object(4)\n",
      "memory usage: 65.6+ KB\n"
     ]
    }
   ],
   "source": [
    "df1.info()"
   ]
  },
  {
   "cell_type": "code",
   "execution_count": 90,
   "metadata": {},
   "outputs": [],
   "source": [
    "df2 = df1.drop(['iso_code','continent','location','tests_units'],axis = 1)"
   ]
  },
  {
   "cell_type": "code",
   "execution_count": 91,
   "metadata": {},
   "outputs": [
    {
     "name": "stdout",
     "output_type": "stream",
     "text": [
      "<class 'pandas.core.frame.DataFrame'>\n",
      "Int64Index: 227 entries, 15764 to 15990\n",
      "Data columns (total 32 columns):\n",
      " #   Column                           Non-Null Count  Dtype  \n",
      "---  ------                           --------------  -----  \n",
      " 0   date                             227 non-null    int64  \n",
      " 1   total_cases                      227 non-null    float64\n",
      " 2   new_cases                        227 non-null    float64\n",
      " 3   total_deaths                     227 non-null    float64\n",
      " 4   new_deaths                       227 non-null    float64\n",
      " 5   total_cases_per_million          227 non-null    float64\n",
      " 6   new_cases_per_million            227 non-null    float64\n",
      " 7   total_deaths_per_million         227 non-null    float64\n",
      " 8   new_deaths_per_million           227 non-null    float64\n",
      " 9   new_tests                        227 non-null    float64\n",
      " 10  total_tests                      227 non-null    float64\n",
      " 11  total_tests_per_thousand         227 non-null    float64\n",
      " 12  new_tests_per_thousand           227 non-null    float64\n",
      " 13  new_tests_smoothed               227 non-null    float64\n",
      " 14  new_tests_smoothed_per_thousand  227 non-null    float64\n",
      " 15  tests_per_case                   227 non-null    float64\n",
      " 16  positive_rate                    227 non-null    float64\n",
      " 17  stringency_index                 227 non-null    float64\n",
      " 18  population                       227 non-null    float64\n",
      " 19  population_density               227 non-null    float64\n",
      " 20  median_age                       227 non-null    float64\n",
      " 21  aged_65_older                    227 non-null    float64\n",
      " 22  aged_70_older                    227 non-null    float64\n",
      " 23  gdp_per_capita                   227 non-null    float64\n",
      " 24  extreme_poverty                  227 non-null    float64\n",
      " 25  cardiovasc_death_rate            227 non-null    float64\n",
      " 26  diabetes_prevalence              227 non-null    float64\n",
      " 27  female_smokers                   227 non-null    float64\n",
      " 28  male_smokers                     227 non-null    float64\n",
      " 29  handwashing_facilities           227 non-null    float64\n",
      " 30  hospital_beds_per_thousand       227 non-null    float64\n",
      " 31  life_expectancy                  227 non-null    float64\n",
      "dtypes: float64(31), int64(1)\n",
      "memory usage: 58.5 KB\n"
     ]
    }
   ],
   "source": [
    "df2.info()"
   ]
  },
  {
   "cell_type": "code",
   "execution_count": 92,
   "metadata": {},
   "outputs": [
    {
     "data": {
      "text/plain": [
       "15764    2019-12-31\n",
       "15765    2020-01-01\n",
       "15766    2020-01-02\n",
       "15767    2020-01-03\n",
       "15768    2020-01-04\n",
       "            ...    \n",
       "15986    2020-08-10\n",
       "15987    2020-08-11\n",
       "15988    2020-08-12\n",
       "15989    2020-08-13\n",
       "15990    2020-08-14\n",
       "Name: date, Length: 227, dtype: object"
      ]
     },
     "execution_count": 92,
     "metadata": {},
     "output_type": "execute_result"
    }
   ],
   "source": [
    "date"
   ]
  },
  {
   "cell_type": "code",
   "execution_count": 93,
   "metadata": {},
   "outputs": [
    {
     "data": {
      "text/plain": [
       "'2020-08-14'"
      ]
     },
     "execution_count": 93,
     "metadata": {},
     "output_type": "execute_result"
    }
   ],
   "source": [
    "date.max()"
   ]
  },
  {
   "cell_type": "code",
   "execution_count": 94,
   "metadata": {},
   "outputs": [
    {
     "data": {
      "text/html": [
       "<div>\n",
       "<style scoped>\n",
       "    .dataframe tbody tr th:only-of-type {\n",
       "        vertical-align: middle;\n",
       "    }\n",
       "\n",
       "    .dataframe tbody tr th {\n",
       "        vertical-align: top;\n",
       "    }\n",
       "\n",
       "    .dataframe thead th {\n",
       "        text-align: right;\n",
       "    }\n",
       "</style>\n",
       "<table border=\"1\" class=\"dataframe\">\n",
       "  <thead>\n",
       "    <tr style=\"text-align: right;\">\n",
       "      <th></th>\n",
       "      <th>date</th>\n",
       "      <th>total_cases</th>\n",
       "      <th>new_cases</th>\n",
       "      <th>total_deaths</th>\n",
       "      <th>new_deaths</th>\n",
       "      <th>total_cases_per_million</th>\n",
       "      <th>new_cases_per_million</th>\n",
       "      <th>total_deaths_per_million</th>\n",
       "      <th>new_deaths_per_million</th>\n",
       "      <th>new_tests</th>\n",
       "      <th>...</th>\n",
       "      <th>aged_70_older</th>\n",
       "      <th>gdp_per_capita</th>\n",
       "      <th>extreme_poverty</th>\n",
       "      <th>cardiovasc_death_rate</th>\n",
       "      <th>diabetes_prevalence</th>\n",
       "      <th>female_smokers</th>\n",
       "      <th>male_smokers</th>\n",
       "      <th>handwashing_facilities</th>\n",
       "      <th>hospital_beds_per_thousand</th>\n",
       "      <th>life_expectancy</th>\n",
       "    </tr>\n",
       "  </thead>\n",
       "  <tbody>\n",
       "    <tr>\n",
       "      <th>15764</th>\n",
       "      <td>737424</td>\n",
       "      <td>0.0</td>\n",
       "      <td>0.0</td>\n",
       "      <td>0.0</td>\n",
       "      <td>0.0</td>\n",
       "      <td>0.000</td>\n",
       "      <td>0.000</td>\n",
       "      <td>0.000</td>\n",
       "      <td>0.000</td>\n",
       "      <td>157.0</td>\n",
       "      <td>...</td>\n",
       "      <td>3.414</td>\n",
       "      <td>6426.674</td>\n",
       "      <td>21.2</td>\n",
       "      <td>282.28</td>\n",
       "      <td>10.39</td>\n",
       "      <td>1.9</td>\n",
       "      <td>20.6</td>\n",
       "      <td>59.55</td>\n",
       "      <td>0.53</td>\n",
       "      <td>69.66</td>\n",
       "    </tr>\n",
       "    <tr>\n",
       "      <th>15765</th>\n",
       "      <td>737425</td>\n",
       "      <td>0.0</td>\n",
       "      <td>0.0</td>\n",
       "      <td>0.0</td>\n",
       "      <td>0.0</td>\n",
       "      <td>0.000</td>\n",
       "      <td>0.000</td>\n",
       "      <td>0.000</td>\n",
       "      <td>0.000</td>\n",
       "      <td>157.0</td>\n",
       "      <td>...</td>\n",
       "      <td>3.414</td>\n",
       "      <td>6426.674</td>\n",
       "      <td>21.2</td>\n",
       "      <td>282.28</td>\n",
       "      <td>10.39</td>\n",
       "      <td>1.9</td>\n",
       "      <td>20.6</td>\n",
       "      <td>59.55</td>\n",
       "      <td>0.53</td>\n",
       "      <td>69.66</td>\n",
       "    </tr>\n",
       "    <tr>\n",
       "      <th>15766</th>\n",
       "      <td>737426</td>\n",
       "      <td>0.0</td>\n",
       "      <td>0.0</td>\n",
       "      <td>0.0</td>\n",
       "      <td>0.0</td>\n",
       "      <td>0.000</td>\n",
       "      <td>0.000</td>\n",
       "      <td>0.000</td>\n",
       "      <td>0.000</td>\n",
       "      <td>157.0</td>\n",
       "      <td>...</td>\n",
       "      <td>3.414</td>\n",
       "      <td>6426.674</td>\n",
       "      <td>21.2</td>\n",
       "      <td>282.28</td>\n",
       "      <td>10.39</td>\n",
       "      <td>1.9</td>\n",
       "      <td>20.6</td>\n",
       "      <td>59.55</td>\n",
       "      <td>0.53</td>\n",
       "      <td>69.66</td>\n",
       "    </tr>\n",
       "    <tr>\n",
       "      <th>15767</th>\n",
       "      <td>737427</td>\n",
       "      <td>0.0</td>\n",
       "      <td>0.0</td>\n",
       "      <td>0.0</td>\n",
       "      <td>0.0</td>\n",
       "      <td>0.000</td>\n",
       "      <td>0.000</td>\n",
       "      <td>0.000</td>\n",
       "      <td>0.000</td>\n",
       "      <td>157.0</td>\n",
       "      <td>...</td>\n",
       "      <td>3.414</td>\n",
       "      <td>6426.674</td>\n",
       "      <td>21.2</td>\n",
       "      <td>282.28</td>\n",
       "      <td>10.39</td>\n",
       "      <td>1.9</td>\n",
       "      <td>20.6</td>\n",
       "      <td>59.55</td>\n",
       "      <td>0.53</td>\n",
       "      <td>69.66</td>\n",
       "    </tr>\n",
       "    <tr>\n",
       "      <th>15768</th>\n",
       "      <td>737428</td>\n",
       "      <td>0.0</td>\n",
       "      <td>0.0</td>\n",
       "      <td>0.0</td>\n",
       "      <td>0.0</td>\n",
       "      <td>0.000</td>\n",
       "      <td>0.000</td>\n",
       "      <td>0.000</td>\n",
       "      <td>0.000</td>\n",
       "      <td>157.0</td>\n",
       "      <td>...</td>\n",
       "      <td>3.414</td>\n",
       "      <td>6426.674</td>\n",
       "      <td>21.2</td>\n",
       "      <td>282.28</td>\n",
       "      <td>10.39</td>\n",
       "      <td>1.9</td>\n",
       "      <td>20.6</td>\n",
       "      <td>59.55</td>\n",
       "      <td>0.53</td>\n",
       "      <td>69.66</td>\n",
       "    </tr>\n",
       "    <tr>\n",
       "      <th>...</th>\n",
       "      <td>...</td>\n",
       "      <td>...</td>\n",
       "      <td>...</td>\n",
       "      <td>...</td>\n",
       "      <td>...</td>\n",
       "      <td>...</td>\n",
       "      <td>...</td>\n",
       "      <td>...</td>\n",
       "      <td>...</td>\n",
       "      <td>...</td>\n",
       "      <td>...</td>\n",
       "      <td>...</td>\n",
       "      <td>...</td>\n",
       "      <td>...</td>\n",
       "      <td>...</td>\n",
       "      <td>...</td>\n",
       "      <td>...</td>\n",
       "      <td>...</td>\n",
       "      <td>...</td>\n",
       "      <td>...</td>\n",
       "      <td>...</td>\n",
       "    </tr>\n",
       "    <tr>\n",
       "      <th>15986</th>\n",
       "      <td>737647</td>\n",
       "      <td>2215074.0</td>\n",
       "      <td>62064.0</td>\n",
       "      <td>44386.0</td>\n",
       "      <td>1007.0</td>\n",
       "      <td>1605.121</td>\n",
       "      <td>44.974</td>\n",
       "      <td>32.164</td>\n",
       "      <td>0.730</td>\n",
       "      <td>698290.0</td>\n",
       "      <td>...</td>\n",
       "      <td>3.414</td>\n",
       "      <td>6426.674</td>\n",
       "      <td>21.2</td>\n",
       "      <td>282.28</td>\n",
       "      <td>10.39</td>\n",
       "      <td>1.9</td>\n",
       "      <td>20.6</td>\n",
       "      <td>59.55</td>\n",
       "      <td>0.53</td>\n",
       "      <td>69.66</td>\n",
       "    </tr>\n",
       "    <tr>\n",
       "      <th>15987</th>\n",
       "      <td>737648</td>\n",
       "      <td>2268675.0</td>\n",
       "      <td>53601.0</td>\n",
       "      <td>45257.0</td>\n",
       "      <td>871.0</td>\n",
       "      <td>1643.962</td>\n",
       "      <td>38.841</td>\n",
       "      <td>32.795</td>\n",
       "      <td>0.631</td>\n",
       "      <td>733449.0</td>\n",
       "      <td>...</td>\n",
       "      <td>3.414</td>\n",
       "      <td>6426.674</td>\n",
       "      <td>21.2</td>\n",
       "      <td>282.28</td>\n",
       "      <td>10.39</td>\n",
       "      <td>1.9</td>\n",
       "      <td>20.6</td>\n",
       "      <td>59.55</td>\n",
       "      <td>0.53</td>\n",
       "      <td>69.66</td>\n",
       "    </tr>\n",
       "    <tr>\n",
       "      <th>15988</th>\n",
       "      <td>737649</td>\n",
       "      <td>2329638.0</td>\n",
       "      <td>60963.0</td>\n",
       "      <td>46091.0</td>\n",
       "      <td>834.0</td>\n",
       "      <td>1688.138</td>\n",
       "      <td>44.176</td>\n",
       "      <td>33.399</td>\n",
       "      <td>0.604</td>\n",
       "      <td>830391.0</td>\n",
       "      <td>...</td>\n",
       "      <td>3.414</td>\n",
       "      <td>6426.674</td>\n",
       "      <td>21.2</td>\n",
       "      <td>282.28</td>\n",
       "      <td>10.39</td>\n",
       "      <td>1.9</td>\n",
       "      <td>20.6</td>\n",
       "      <td>59.55</td>\n",
       "      <td>0.53</td>\n",
       "      <td>69.66</td>\n",
       "    </tr>\n",
       "    <tr>\n",
       "      <th>15989</th>\n",
       "      <td>737650</td>\n",
       "      <td>2396637.0</td>\n",
       "      <td>66999.0</td>\n",
       "      <td>47033.0</td>\n",
       "      <td>942.0</td>\n",
       "      <td>1736.688</td>\n",
       "      <td>48.550</td>\n",
       "      <td>34.082</td>\n",
       "      <td>0.683</td>\n",
       "      <td>848728.0</td>\n",
       "      <td>...</td>\n",
       "      <td>3.414</td>\n",
       "      <td>6426.674</td>\n",
       "      <td>21.2</td>\n",
       "      <td>282.28</td>\n",
       "      <td>10.39</td>\n",
       "      <td>1.9</td>\n",
       "      <td>20.6</td>\n",
       "      <td>59.55</td>\n",
       "      <td>0.53</td>\n",
       "      <td>69.66</td>\n",
       "    </tr>\n",
       "    <tr>\n",
       "      <th>15990</th>\n",
       "      <td>737651</td>\n",
       "      <td>2461190.0</td>\n",
       "      <td>64553.0</td>\n",
       "      <td>48040.0</td>\n",
       "      <td>1007.0</td>\n",
       "      <td>1783.465</td>\n",
       "      <td>46.777</td>\n",
       "      <td>34.811</td>\n",
       "      <td>0.730</td>\n",
       "      <td>157.0</td>\n",
       "      <td>...</td>\n",
       "      <td>3.414</td>\n",
       "      <td>6426.674</td>\n",
       "      <td>21.2</td>\n",
       "      <td>282.28</td>\n",
       "      <td>10.39</td>\n",
       "      <td>1.9</td>\n",
       "      <td>20.6</td>\n",
       "      <td>59.55</td>\n",
       "      <td>0.53</td>\n",
       "      <td>69.66</td>\n",
       "    </tr>\n",
       "  </tbody>\n",
       "</table>\n",
       "<p>227 rows × 32 columns</p>\n",
       "</div>"
      ],
      "text/plain": [
       "         date  total_cases  new_cases  total_deaths  new_deaths  \\\n",
       "15764  737424          0.0        0.0           0.0         0.0   \n",
       "15765  737425          0.0        0.0           0.0         0.0   \n",
       "15766  737426          0.0        0.0           0.0         0.0   \n",
       "15767  737427          0.0        0.0           0.0         0.0   \n",
       "15768  737428          0.0        0.0           0.0         0.0   \n",
       "...       ...          ...        ...           ...         ...   \n",
       "15986  737647    2215074.0    62064.0       44386.0      1007.0   \n",
       "15987  737648    2268675.0    53601.0       45257.0       871.0   \n",
       "15988  737649    2329638.0    60963.0       46091.0       834.0   \n",
       "15989  737650    2396637.0    66999.0       47033.0       942.0   \n",
       "15990  737651    2461190.0    64553.0       48040.0      1007.0   \n",
       "\n",
       "       total_cases_per_million  new_cases_per_million  \\\n",
       "15764                    0.000                  0.000   \n",
       "15765                    0.000                  0.000   \n",
       "15766                    0.000                  0.000   \n",
       "15767                    0.000                  0.000   \n",
       "15768                    0.000                  0.000   \n",
       "...                        ...                    ...   \n",
       "15986                 1605.121                 44.974   \n",
       "15987                 1643.962                 38.841   \n",
       "15988                 1688.138                 44.176   \n",
       "15989                 1736.688                 48.550   \n",
       "15990                 1783.465                 46.777   \n",
       "\n",
       "       total_deaths_per_million  new_deaths_per_million  new_tests  ...  \\\n",
       "15764                     0.000                   0.000      157.0  ...   \n",
       "15765                     0.000                   0.000      157.0  ...   \n",
       "15766                     0.000                   0.000      157.0  ...   \n",
       "15767                     0.000                   0.000      157.0  ...   \n",
       "15768                     0.000                   0.000      157.0  ...   \n",
       "...                         ...                     ...        ...  ...   \n",
       "15986                    32.164                   0.730   698290.0  ...   \n",
       "15987                    32.795                   0.631   733449.0  ...   \n",
       "15988                    33.399                   0.604   830391.0  ...   \n",
       "15989                    34.082                   0.683   848728.0  ...   \n",
       "15990                    34.811                   0.730      157.0  ...   \n",
       "\n",
       "       aged_70_older  gdp_per_capita  extreme_poverty  cardiovasc_death_rate  \\\n",
       "15764          3.414        6426.674             21.2                 282.28   \n",
       "15765          3.414        6426.674             21.2                 282.28   \n",
       "15766          3.414        6426.674             21.2                 282.28   \n",
       "15767          3.414        6426.674             21.2                 282.28   \n",
       "15768          3.414        6426.674             21.2                 282.28   \n",
       "...              ...             ...              ...                    ...   \n",
       "15986          3.414        6426.674             21.2                 282.28   \n",
       "15987          3.414        6426.674             21.2                 282.28   \n",
       "15988          3.414        6426.674             21.2                 282.28   \n",
       "15989          3.414        6426.674             21.2                 282.28   \n",
       "15990          3.414        6426.674             21.2                 282.28   \n",
       "\n",
       "       diabetes_prevalence  female_smokers  male_smokers  \\\n",
       "15764                10.39             1.9          20.6   \n",
       "15765                10.39             1.9          20.6   \n",
       "15766                10.39             1.9          20.6   \n",
       "15767                10.39             1.9          20.6   \n",
       "15768                10.39             1.9          20.6   \n",
       "...                    ...             ...           ...   \n",
       "15986                10.39             1.9          20.6   \n",
       "15987                10.39             1.9          20.6   \n",
       "15988                10.39             1.9          20.6   \n",
       "15989                10.39             1.9          20.6   \n",
       "15990                10.39             1.9          20.6   \n",
       "\n",
       "       handwashing_facilities  hospital_beds_per_thousand  life_expectancy  \n",
       "15764                   59.55                        0.53            69.66  \n",
       "15765                   59.55                        0.53            69.66  \n",
       "15766                   59.55                        0.53            69.66  \n",
       "15767                   59.55                        0.53            69.66  \n",
       "15768                   59.55                        0.53            69.66  \n",
       "...                       ...                         ...              ...  \n",
       "15986                   59.55                        0.53            69.66  \n",
       "15987                   59.55                        0.53            69.66  \n",
       "15988                   59.55                        0.53            69.66  \n",
       "15989                   59.55                        0.53            69.66  \n",
       "15990                   59.55                        0.53            69.66  \n",
       "\n",
       "[227 rows x 32 columns]"
      ]
     },
     "execution_count": 94,
     "metadata": {},
     "output_type": "execute_result"
    }
   ],
   "source": [
    "df2"
   ]
  },
  {
   "cell_type": "markdown",
   "metadata": {},
   "source": [
    "# Modelling"
   ]
  },
  {
   "cell_type": "code",
   "execution_count": 95,
   "metadata": {},
   "outputs": [],
   "source": [
    "from sklearn.model_selection import train_test_split\n",
    "from sklearn.linear_model import LinearRegression\n",
    "from sklearn.ensemble import RandomForestRegressor"
   ]
  },
  {
   "cell_type": "code",
   "execution_count": 96,
   "metadata": {},
   "outputs": [],
   "source": [
    "X = df2.drop([\"total_cases\",\"female_smokers\",\"male_smokers\",\"aged_65_older\",\"aged_70_older\",\"handwashing_facilities\", \"hospital_beds_per_thousand\",\"gdp_per_capita\",\"extreme_poverty\",\"population_density\",\"population\",\"cardiovasc_death_rate\",\"diabetes_prevalence\",\"life_expectancy\",\"median_age\"],axis=1)\n",
    "y = df2[\"total_cases\"]"
   ]
  },
  {
   "cell_type": "code",
   "execution_count": 97,
   "metadata": {},
   "outputs": [
    {
     "data": {
      "text/html": [
       "<div>\n",
       "<style scoped>\n",
       "    .dataframe tbody tr th:only-of-type {\n",
       "        vertical-align: middle;\n",
       "    }\n",
       "\n",
       "    .dataframe tbody tr th {\n",
       "        vertical-align: top;\n",
       "    }\n",
       "\n",
       "    .dataframe thead th {\n",
       "        text-align: right;\n",
       "    }\n",
       "</style>\n",
       "<table border=\"1\" class=\"dataframe\">\n",
       "  <thead>\n",
       "    <tr style=\"text-align: right;\">\n",
       "      <th></th>\n",
       "      <th>date</th>\n",
       "      <th>new_cases</th>\n",
       "      <th>total_deaths</th>\n",
       "      <th>new_deaths</th>\n",
       "      <th>total_cases_per_million</th>\n",
       "      <th>new_cases_per_million</th>\n",
       "      <th>total_deaths_per_million</th>\n",
       "      <th>new_deaths_per_million</th>\n",
       "      <th>new_tests</th>\n",
       "      <th>total_tests</th>\n",
       "      <th>total_tests_per_thousand</th>\n",
       "      <th>new_tests_per_thousand</th>\n",
       "      <th>new_tests_smoothed</th>\n",
       "      <th>new_tests_smoothed_per_thousand</th>\n",
       "      <th>tests_per_case</th>\n",
       "      <th>positive_rate</th>\n",
       "      <th>stringency_index</th>\n",
       "    </tr>\n",
       "  </thead>\n",
       "  <tbody>\n",
       "    <tr>\n",
       "      <th>15764</th>\n",
       "      <td>737424</td>\n",
       "      <td>0.0</td>\n",
       "      <td>0.0</td>\n",
       "      <td>0.0</td>\n",
       "      <td>0.000</td>\n",
       "      <td>0.000</td>\n",
       "      <td>0.000</td>\n",
       "      <td>0.000</td>\n",
       "      <td>157.0</td>\n",
       "      <td>6500.0</td>\n",
       "      <td>0.010</td>\n",
       "      <td>0.001</td>\n",
       "      <td>1125.0</td>\n",
       "      <td>0.001</td>\n",
       "      <td>10.889</td>\n",
       "      <td>0.039</td>\n",
       "      <td>10.19</td>\n",
       "    </tr>\n",
       "    <tr>\n",
       "      <th>15765</th>\n",
       "      <td>737425</td>\n",
       "      <td>0.0</td>\n",
       "      <td>0.0</td>\n",
       "      <td>0.0</td>\n",
       "      <td>0.000</td>\n",
       "      <td>0.000</td>\n",
       "      <td>0.000</td>\n",
       "      <td>0.000</td>\n",
       "      <td>157.0</td>\n",
       "      <td>6500.0</td>\n",
       "      <td>0.010</td>\n",
       "      <td>0.001</td>\n",
       "      <td>1125.0</td>\n",
       "      <td>0.001</td>\n",
       "      <td>10.889</td>\n",
       "      <td>0.039</td>\n",
       "      <td>0.00</td>\n",
       "    </tr>\n",
       "    <tr>\n",
       "      <th>15766</th>\n",
       "      <td>737426</td>\n",
       "      <td>0.0</td>\n",
       "      <td>0.0</td>\n",
       "      <td>0.0</td>\n",
       "      <td>0.000</td>\n",
       "      <td>0.000</td>\n",
       "      <td>0.000</td>\n",
       "      <td>0.000</td>\n",
       "      <td>157.0</td>\n",
       "      <td>6500.0</td>\n",
       "      <td>0.010</td>\n",
       "      <td>0.001</td>\n",
       "      <td>1125.0</td>\n",
       "      <td>0.001</td>\n",
       "      <td>10.889</td>\n",
       "      <td>0.039</td>\n",
       "      <td>0.00</td>\n",
       "    </tr>\n",
       "    <tr>\n",
       "      <th>15767</th>\n",
       "      <td>737427</td>\n",
       "      <td>0.0</td>\n",
       "      <td>0.0</td>\n",
       "      <td>0.0</td>\n",
       "      <td>0.000</td>\n",
       "      <td>0.000</td>\n",
       "      <td>0.000</td>\n",
       "      <td>0.000</td>\n",
       "      <td>157.0</td>\n",
       "      <td>6500.0</td>\n",
       "      <td>0.010</td>\n",
       "      <td>0.001</td>\n",
       "      <td>1125.0</td>\n",
       "      <td>0.001</td>\n",
       "      <td>10.889</td>\n",
       "      <td>0.039</td>\n",
       "      <td>0.00</td>\n",
       "    </tr>\n",
       "    <tr>\n",
       "      <th>15768</th>\n",
       "      <td>737428</td>\n",
       "      <td>0.0</td>\n",
       "      <td>0.0</td>\n",
       "      <td>0.0</td>\n",
       "      <td>0.000</td>\n",
       "      <td>0.000</td>\n",
       "      <td>0.000</td>\n",
       "      <td>0.000</td>\n",
       "      <td>157.0</td>\n",
       "      <td>6500.0</td>\n",
       "      <td>0.010</td>\n",
       "      <td>0.001</td>\n",
       "      <td>1125.0</td>\n",
       "      <td>0.001</td>\n",
       "      <td>10.889</td>\n",
       "      <td>0.039</td>\n",
       "      <td>0.00</td>\n",
       "    </tr>\n",
       "    <tr>\n",
       "      <th>...</th>\n",
       "      <td>...</td>\n",
       "      <td>...</td>\n",
       "      <td>...</td>\n",
       "      <td>...</td>\n",
       "      <td>...</td>\n",
       "      <td>...</td>\n",
       "      <td>...</td>\n",
       "      <td>...</td>\n",
       "      <td>...</td>\n",
       "      <td>...</td>\n",
       "      <td>...</td>\n",
       "      <td>...</td>\n",
       "      <td>...</td>\n",
       "      <td>...</td>\n",
       "      <td>...</td>\n",
       "      <td>...</td>\n",
       "      <td>...</td>\n",
       "    </tr>\n",
       "    <tr>\n",
       "      <th>15986</th>\n",
       "      <td>737647</td>\n",
       "      <td>62064.0</td>\n",
       "      <td>44386.0</td>\n",
       "      <td>1007.0</td>\n",
       "      <td>1605.121</td>\n",
       "      <td>44.974</td>\n",
       "      <td>32.164</td>\n",
       "      <td>0.730</td>\n",
       "      <td>698290.0</td>\n",
       "      <td>25281848.0</td>\n",
       "      <td>18.320</td>\n",
       "      <td>0.506</td>\n",
       "      <td>631014.0</td>\n",
       "      <td>0.457</td>\n",
       "      <td>10.737</td>\n",
       "      <td>0.093</td>\n",
       "      <td>10.19</td>\n",
       "    </tr>\n",
       "    <tr>\n",
       "      <th>15987</th>\n",
       "      <td>737648</td>\n",
       "      <td>53601.0</td>\n",
       "      <td>45257.0</td>\n",
       "      <td>871.0</td>\n",
       "      <td>1643.962</td>\n",
       "      <td>38.841</td>\n",
       "      <td>32.795</td>\n",
       "      <td>0.631</td>\n",
       "      <td>733449.0</td>\n",
       "      <td>26015297.0</td>\n",
       "      <td>18.852</td>\n",
       "      <td>0.531</td>\n",
       "      <td>647271.0</td>\n",
       "      <td>0.469</td>\n",
       "      <td>10.973</td>\n",
       "      <td>0.091</td>\n",
       "      <td>10.19</td>\n",
       "    </tr>\n",
       "    <tr>\n",
       "      <th>15988</th>\n",
       "      <td>737649</td>\n",
       "      <td>60963.0</td>\n",
       "      <td>46091.0</td>\n",
       "      <td>834.0</td>\n",
       "      <td>1688.138</td>\n",
       "      <td>44.176</td>\n",
       "      <td>33.399</td>\n",
       "      <td>0.604</td>\n",
       "      <td>830391.0</td>\n",
       "      <td>26845688.0</td>\n",
       "      <td>19.453</td>\n",
       "      <td>0.602</td>\n",
       "      <td>670905.0</td>\n",
       "      <td>0.486</td>\n",
       "      <td>11.145</td>\n",
       "      <td>0.090</td>\n",
       "      <td>10.19</td>\n",
       "    </tr>\n",
       "    <tr>\n",
       "      <th>15989</th>\n",
       "      <td>737650</td>\n",
       "      <td>66999.0</td>\n",
       "      <td>47033.0</td>\n",
       "      <td>942.0</td>\n",
       "      <td>1736.688</td>\n",
       "      <td>48.550</td>\n",
       "      <td>34.082</td>\n",
       "      <td>0.683</td>\n",
       "      <td>848728.0</td>\n",
       "      <td>27694416.0</td>\n",
       "      <td>20.068</td>\n",
       "      <td>0.615</td>\n",
       "      <td>700860.0</td>\n",
       "      <td>0.508</td>\n",
       "      <td>11.354</td>\n",
       "      <td>0.088</td>\n",
       "      <td>10.19</td>\n",
       "    </tr>\n",
       "    <tr>\n",
       "      <th>15990</th>\n",
       "      <td>737651</td>\n",
       "      <td>64553.0</td>\n",
       "      <td>48040.0</td>\n",
       "      <td>1007.0</td>\n",
       "      <td>1783.465</td>\n",
       "      <td>46.777</td>\n",
       "      <td>34.811</td>\n",
       "      <td>0.730</td>\n",
       "      <td>157.0</td>\n",
       "      <td>6500.0</td>\n",
       "      <td>0.010</td>\n",
       "      <td>0.001</td>\n",
       "      <td>1125.0</td>\n",
       "      <td>0.001</td>\n",
       "      <td>10.889</td>\n",
       "      <td>0.039</td>\n",
       "      <td>10.19</td>\n",
       "    </tr>\n",
       "  </tbody>\n",
       "</table>\n",
       "<p>227 rows × 17 columns</p>\n",
       "</div>"
      ],
      "text/plain": [
       "         date  new_cases  total_deaths  new_deaths  total_cases_per_million  \\\n",
       "15764  737424        0.0           0.0         0.0                    0.000   \n",
       "15765  737425        0.0           0.0         0.0                    0.000   \n",
       "15766  737426        0.0           0.0         0.0                    0.000   \n",
       "15767  737427        0.0           0.0         0.0                    0.000   \n",
       "15768  737428        0.0           0.0         0.0                    0.000   \n",
       "...       ...        ...           ...         ...                      ...   \n",
       "15986  737647    62064.0       44386.0      1007.0                 1605.121   \n",
       "15987  737648    53601.0       45257.0       871.0                 1643.962   \n",
       "15988  737649    60963.0       46091.0       834.0                 1688.138   \n",
       "15989  737650    66999.0       47033.0       942.0                 1736.688   \n",
       "15990  737651    64553.0       48040.0      1007.0                 1783.465   \n",
       "\n",
       "       new_cases_per_million  total_deaths_per_million  \\\n",
       "15764                  0.000                     0.000   \n",
       "15765                  0.000                     0.000   \n",
       "15766                  0.000                     0.000   \n",
       "15767                  0.000                     0.000   \n",
       "15768                  0.000                     0.000   \n",
       "...                      ...                       ...   \n",
       "15986                 44.974                    32.164   \n",
       "15987                 38.841                    32.795   \n",
       "15988                 44.176                    33.399   \n",
       "15989                 48.550                    34.082   \n",
       "15990                 46.777                    34.811   \n",
       "\n",
       "       new_deaths_per_million  new_tests  total_tests  \\\n",
       "15764                   0.000      157.0       6500.0   \n",
       "15765                   0.000      157.0       6500.0   \n",
       "15766                   0.000      157.0       6500.0   \n",
       "15767                   0.000      157.0       6500.0   \n",
       "15768                   0.000      157.0       6500.0   \n",
       "...                       ...        ...          ...   \n",
       "15986                   0.730   698290.0   25281848.0   \n",
       "15987                   0.631   733449.0   26015297.0   \n",
       "15988                   0.604   830391.0   26845688.0   \n",
       "15989                   0.683   848728.0   27694416.0   \n",
       "15990                   0.730      157.0       6500.0   \n",
       "\n",
       "       total_tests_per_thousand  new_tests_per_thousand  new_tests_smoothed  \\\n",
       "15764                     0.010                   0.001              1125.0   \n",
       "15765                     0.010                   0.001              1125.0   \n",
       "15766                     0.010                   0.001              1125.0   \n",
       "15767                     0.010                   0.001              1125.0   \n",
       "15768                     0.010                   0.001              1125.0   \n",
       "...                         ...                     ...                 ...   \n",
       "15986                    18.320                   0.506            631014.0   \n",
       "15987                    18.852                   0.531            647271.0   \n",
       "15988                    19.453                   0.602            670905.0   \n",
       "15989                    20.068                   0.615            700860.0   \n",
       "15990                     0.010                   0.001              1125.0   \n",
       "\n",
       "       new_tests_smoothed_per_thousand  tests_per_case  positive_rate  \\\n",
       "15764                            0.001          10.889          0.039   \n",
       "15765                            0.001          10.889          0.039   \n",
       "15766                            0.001          10.889          0.039   \n",
       "15767                            0.001          10.889          0.039   \n",
       "15768                            0.001          10.889          0.039   \n",
       "...                                ...             ...            ...   \n",
       "15986                            0.457          10.737          0.093   \n",
       "15987                            0.469          10.973          0.091   \n",
       "15988                            0.486          11.145          0.090   \n",
       "15989                            0.508          11.354          0.088   \n",
       "15990                            0.001          10.889          0.039   \n",
       "\n",
       "       stringency_index  \n",
       "15764             10.19  \n",
       "15765              0.00  \n",
       "15766              0.00  \n",
       "15767              0.00  \n",
       "15768              0.00  \n",
       "...                 ...  \n",
       "15986             10.19  \n",
       "15987             10.19  \n",
       "15988             10.19  \n",
       "15989             10.19  \n",
       "15990             10.19  \n",
       "\n",
       "[227 rows x 17 columns]"
      ]
     },
     "execution_count": 97,
     "metadata": {},
     "output_type": "execute_result"
    }
   ],
   "source": [
    "X"
   ]
  },
  {
   "cell_type": "code",
   "execution_count": 98,
   "metadata": {},
   "outputs": [
    {
     "data": {
      "text/plain": [
       "15764          0.0\n",
       "15765          0.0\n",
       "15766          0.0\n",
       "15767          0.0\n",
       "15768          0.0\n",
       "           ...    \n",
       "15986    2215074.0\n",
       "15987    2268675.0\n",
       "15988    2329638.0\n",
       "15989    2396637.0\n",
       "15990    2461190.0\n",
       "Name: total_cases, Length: 227, dtype: float64"
      ]
     },
     "execution_count": 98,
     "metadata": {},
     "output_type": "execute_result"
    }
   ],
   "source": [
    "y"
   ]
  },
  {
   "cell_type": "code",
   "execution_count": 99,
   "metadata": {},
   "outputs": [
    {
     "data": {
      "text/plain": [
       "pandas.core.frame.DataFrame"
      ]
     },
     "execution_count": 99,
     "metadata": {},
     "output_type": "execute_result"
    }
   ],
   "source": [
    "type(X)"
   ]
  },
  {
   "cell_type": "code",
   "execution_count": 100,
   "metadata": {},
   "outputs": [
    {
     "data": {
      "text/plain": [
       "pandas.core.series.Series"
      ]
     },
     "execution_count": 100,
     "metadata": {},
     "output_type": "execute_result"
    }
   ],
   "source": [
    "type(y)"
   ]
  },
  {
   "cell_type": "markdown",
   "metadata": {},
   "source": [
    "# LinearRegression"
   ]
  },
  {
   "cell_type": "code",
   "execution_count": 101,
   "metadata": {},
   "outputs": [],
   "source": [
    "X_train,X_test,y_train,y_test = train_test_split(X,y,test_size=0.3,random_state=42)"
   ]
  },
  {
   "cell_type": "code",
   "execution_count": 102,
   "metadata": {},
   "outputs": [],
   "source": [
    "reg = LinearRegression()"
   ]
  },
  {
   "cell_type": "code",
   "execution_count": 103,
   "metadata": {},
   "outputs": [
    {
     "data": {
      "text/plain": [
       "LinearRegression()"
      ]
     },
     "execution_count": 103,
     "metadata": {},
     "output_type": "execute_result"
    }
   ],
   "source": [
    "reg.fit(X_train,y_train)"
   ]
  },
  {
   "cell_type": "code",
   "execution_count": 104,
   "metadata": {},
   "outputs": [
    {
     "data": {
      "text/plain": [
       "(69, 17)"
      ]
     },
     "execution_count": 104,
     "metadata": {},
     "output_type": "execute_result"
    }
   ],
   "source": [
    "X_test.shape"
   ]
  },
  {
   "cell_type": "code",
   "execution_count": 105,
   "metadata": {},
   "outputs": [],
   "source": [
    "y_pred = reg.predict(X_test)"
   ]
  },
  {
   "cell_type": "code",
   "execution_count": 106,
   "metadata": {},
   "outputs": [
    {
     "data": {
      "text/plain": [
       "0.9999999999995305"
      ]
     },
     "execution_count": 106,
     "metadata": {},
     "output_type": "execute_result"
    }
   ],
   "source": [
    "reg.score(X_test,y_test)"
   ]
  },
  {
   "cell_type": "markdown",
   "metadata": {},
   "source": [
    "# RandomForestRegression"
   ]
  },
  {
   "cell_type": "code",
   "execution_count": 107,
   "metadata": {},
   "outputs": [],
   "source": [
    "X_train,X_test,y_train,y_test = train_test_split(X,y,test_size=0.3,random_state=42)"
   ]
  },
  {
   "cell_type": "code",
   "execution_count": 108,
   "metadata": {},
   "outputs": [
    {
     "data": {
      "text/plain": [
       "RandomForestRegressor()"
      ]
     },
     "execution_count": 108,
     "metadata": {},
     "output_type": "execute_result"
    }
   ],
   "source": [
    "randomfor = RandomForestRegressor()\n",
    "randomfor.fit(X_train,y_train)"
   ]
  },
  {
   "cell_type": "code",
   "execution_count": 109,
   "metadata": {},
   "outputs": [
    {
     "data": {
      "text/plain": [
       "0.9980488658247776"
      ]
     },
     "execution_count": 109,
     "metadata": {},
     "output_type": "execute_result"
    }
   ],
   "source": [
    "randomfor.score(X_test,y_test)"
   ]
  },
  {
   "cell_type": "code",
   "execution_count": 110,
   "metadata": {},
   "outputs": [
    {
     "data": {
      "text/html": [
       "<div>\n",
       "<style scoped>\n",
       "    .dataframe tbody tr th:only-of-type {\n",
       "        vertical-align: middle;\n",
       "    }\n",
       "\n",
       "    .dataframe tbody tr th {\n",
       "        vertical-align: top;\n",
       "    }\n",
       "\n",
       "    .dataframe thead th {\n",
       "        text-align: right;\n",
       "    }\n",
       "</style>\n",
       "<table border=\"1\" class=\"dataframe\">\n",
       "  <thead>\n",
       "    <tr style=\"text-align: right;\">\n",
       "      <th></th>\n",
       "      <th>date</th>\n",
       "      <th>new_cases</th>\n",
       "      <th>total_deaths</th>\n",
       "      <th>new_deaths</th>\n",
       "      <th>total_cases_per_million</th>\n",
       "      <th>new_cases_per_million</th>\n",
       "      <th>total_deaths_per_million</th>\n",
       "      <th>new_deaths_per_million</th>\n",
       "      <th>new_tests</th>\n",
       "      <th>total_tests</th>\n",
       "      <th>total_tests_per_thousand</th>\n",
       "      <th>new_tests_per_thousand</th>\n",
       "      <th>new_tests_smoothed</th>\n",
       "      <th>new_tests_smoothed_per_thousand</th>\n",
       "      <th>tests_per_case</th>\n",
       "      <th>positive_rate</th>\n",
       "      <th>stringency_index</th>\n",
       "    </tr>\n",
       "  </thead>\n",
       "  <tbody>\n",
       "    <tr>\n",
       "      <th>15764</th>\n",
       "      <td>737424</td>\n",
       "      <td>0.0</td>\n",
       "      <td>0.0</td>\n",
       "      <td>0.0</td>\n",
       "      <td>0.000</td>\n",
       "      <td>0.000</td>\n",
       "      <td>0.000</td>\n",
       "      <td>0.000</td>\n",
       "      <td>157.0</td>\n",
       "      <td>6500.0</td>\n",
       "      <td>0.010</td>\n",
       "      <td>0.001</td>\n",
       "      <td>1125.0</td>\n",
       "      <td>0.001</td>\n",
       "      <td>10.889</td>\n",
       "      <td>0.039</td>\n",
       "      <td>10.19</td>\n",
       "    </tr>\n",
       "    <tr>\n",
       "      <th>15765</th>\n",
       "      <td>737425</td>\n",
       "      <td>0.0</td>\n",
       "      <td>0.0</td>\n",
       "      <td>0.0</td>\n",
       "      <td>0.000</td>\n",
       "      <td>0.000</td>\n",
       "      <td>0.000</td>\n",
       "      <td>0.000</td>\n",
       "      <td>157.0</td>\n",
       "      <td>6500.0</td>\n",
       "      <td>0.010</td>\n",
       "      <td>0.001</td>\n",
       "      <td>1125.0</td>\n",
       "      <td>0.001</td>\n",
       "      <td>10.889</td>\n",
       "      <td>0.039</td>\n",
       "      <td>0.00</td>\n",
       "    </tr>\n",
       "    <tr>\n",
       "      <th>15766</th>\n",
       "      <td>737426</td>\n",
       "      <td>0.0</td>\n",
       "      <td>0.0</td>\n",
       "      <td>0.0</td>\n",
       "      <td>0.000</td>\n",
       "      <td>0.000</td>\n",
       "      <td>0.000</td>\n",
       "      <td>0.000</td>\n",
       "      <td>157.0</td>\n",
       "      <td>6500.0</td>\n",
       "      <td>0.010</td>\n",
       "      <td>0.001</td>\n",
       "      <td>1125.0</td>\n",
       "      <td>0.001</td>\n",
       "      <td>10.889</td>\n",
       "      <td>0.039</td>\n",
       "      <td>0.00</td>\n",
       "    </tr>\n",
       "    <tr>\n",
       "      <th>15767</th>\n",
       "      <td>737427</td>\n",
       "      <td>0.0</td>\n",
       "      <td>0.0</td>\n",
       "      <td>0.0</td>\n",
       "      <td>0.000</td>\n",
       "      <td>0.000</td>\n",
       "      <td>0.000</td>\n",
       "      <td>0.000</td>\n",
       "      <td>157.0</td>\n",
       "      <td>6500.0</td>\n",
       "      <td>0.010</td>\n",
       "      <td>0.001</td>\n",
       "      <td>1125.0</td>\n",
       "      <td>0.001</td>\n",
       "      <td>10.889</td>\n",
       "      <td>0.039</td>\n",
       "      <td>0.00</td>\n",
       "    </tr>\n",
       "    <tr>\n",
       "      <th>15768</th>\n",
       "      <td>737428</td>\n",
       "      <td>0.0</td>\n",
       "      <td>0.0</td>\n",
       "      <td>0.0</td>\n",
       "      <td>0.000</td>\n",
       "      <td>0.000</td>\n",
       "      <td>0.000</td>\n",
       "      <td>0.000</td>\n",
       "      <td>157.0</td>\n",
       "      <td>6500.0</td>\n",
       "      <td>0.010</td>\n",
       "      <td>0.001</td>\n",
       "      <td>1125.0</td>\n",
       "      <td>0.001</td>\n",
       "      <td>10.889</td>\n",
       "      <td>0.039</td>\n",
       "      <td>0.00</td>\n",
       "    </tr>\n",
       "    <tr>\n",
       "      <th>...</th>\n",
       "      <td>...</td>\n",
       "      <td>...</td>\n",
       "      <td>...</td>\n",
       "      <td>...</td>\n",
       "      <td>...</td>\n",
       "      <td>...</td>\n",
       "      <td>...</td>\n",
       "      <td>...</td>\n",
       "      <td>...</td>\n",
       "      <td>...</td>\n",
       "      <td>...</td>\n",
       "      <td>...</td>\n",
       "      <td>...</td>\n",
       "      <td>...</td>\n",
       "      <td>...</td>\n",
       "      <td>...</td>\n",
       "      <td>...</td>\n",
       "    </tr>\n",
       "    <tr>\n",
       "      <th>15986</th>\n",
       "      <td>737647</td>\n",
       "      <td>62064.0</td>\n",
       "      <td>44386.0</td>\n",
       "      <td>1007.0</td>\n",
       "      <td>1605.121</td>\n",
       "      <td>44.974</td>\n",
       "      <td>32.164</td>\n",
       "      <td>0.730</td>\n",
       "      <td>698290.0</td>\n",
       "      <td>25281848.0</td>\n",
       "      <td>18.320</td>\n",
       "      <td>0.506</td>\n",
       "      <td>631014.0</td>\n",
       "      <td>0.457</td>\n",
       "      <td>10.737</td>\n",
       "      <td>0.093</td>\n",
       "      <td>10.19</td>\n",
       "    </tr>\n",
       "    <tr>\n",
       "      <th>15987</th>\n",
       "      <td>737648</td>\n",
       "      <td>53601.0</td>\n",
       "      <td>45257.0</td>\n",
       "      <td>871.0</td>\n",
       "      <td>1643.962</td>\n",
       "      <td>38.841</td>\n",
       "      <td>32.795</td>\n",
       "      <td>0.631</td>\n",
       "      <td>733449.0</td>\n",
       "      <td>26015297.0</td>\n",
       "      <td>18.852</td>\n",
       "      <td>0.531</td>\n",
       "      <td>647271.0</td>\n",
       "      <td>0.469</td>\n",
       "      <td>10.973</td>\n",
       "      <td>0.091</td>\n",
       "      <td>10.19</td>\n",
       "    </tr>\n",
       "    <tr>\n",
       "      <th>15988</th>\n",
       "      <td>737649</td>\n",
       "      <td>60963.0</td>\n",
       "      <td>46091.0</td>\n",
       "      <td>834.0</td>\n",
       "      <td>1688.138</td>\n",
       "      <td>44.176</td>\n",
       "      <td>33.399</td>\n",
       "      <td>0.604</td>\n",
       "      <td>830391.0</td>\n",
       "      <td>26845688.0</td>\n",
       "      <td>19.453</td>\n",
       "      <td>0.602</td>\n",
       "      <td>670905.0</td>\n",
       "      <td>0.486</td>\n",
       "      <td>11.145</td>\n",
       "      <td>0.090</td>\n",
       "      <td>10.19</td>\n",
       "    </tr>\n",
       "    <tr>\n",
       "      <th>15989</th>\n",
       "      <td>737650</td>\n",
       "      <td>66999.0</td>\n",
       "      <td>47033.0</td>\n",
       "      <td>942.0</td>\n",
       "      <td>1736.688</td>\n",
       "      <td>48.550</td>\n",
       "      <td>34.082</td>\n",
       "      <td>0.683</td>\n",
       "      <td>848728.0</td>\n",
       "      <td>27694416.0</td>\n",
       "      <td>20.068</td>\n",
       "      <td>0.615</td>\n",
       "      <td>700860.0</td>\n",
       "      <td>0.508</td>\n",
       "      <td>11.354</td>\n",
       "      <td>0.088</td>\n",
       "      <td>10.19</td>\n",
       "    </tr>\n",
       "    <tr>\n",
       "      <th>15990</th>\n",
       "      <td>737651</td>\n",
       "      <td>64553.0</td>\n",
       "      <td>48040.0</td>\n",
       "      <td>1007.0</td>\n",
       "      <td>1783.465</td>\n",
       "      <td>46.777</td>\n",
       "      <td>34.811</td>\n",
       "      <td>0.730</td>\n",
       "      <td>157.0</td>\n",
       "      <td>6500.0</td>\n",
       "      <td>0.010</td>\n",
       "      <td>0.001</td>\n",
       "      <td>1125.0</td>\n",
       "      <td>0.001</td>\n",
       "      <td>10.889</td>\n",
       "      <td>0.039</td>\n",
       "      <td>10.19</td>\n",
       "    </tr>\n",
       "  </tbody>\n",
       "</table>\n",
       "<p>227 rows × 17 columns</p>\n",
       "</div>"
      ],
      "text/plain": [
       "         date  new_cases  total_deaths  new_deaths  total_cases_per_million  \\\n",
       "15764  737424        0.0           0.0         0.0                    0.000   \n",
       "15765  737425        0.0           0.0         0.0                    0.000   \n",
       "15766  737426        0.0           0.0         0.0                    0.000   \n",
       "15767  737427        0.0           0.0         0.0                    0.000   \n",
       "15768  737428        0.0           0.0         0.0                    0.000   \n",
       "...       ...        ...           ...         ...                      ...   \n",
       "15986  737647    62064.0       44386.0      1007.0                 1605.121   \n",
       "15987  737648    53601.0       45257.0       871.0                 1643.962   \n",
       "15988  737649    60963.0       46091.0       834.0                 1688.138   \n",
       "15989  737650    66999.0       47033.0       942.0                 1736.688   \n",
       "15990  737651    64553.0       48040.0      1007.0                 1783.465   \n",
       "\n",
       "       new_cases_per_million  total_deaths_per_million  \\\n",
       "15764                  0.000                     0.000   \n",
       "15765                  0.000                     0.000   \n",
       "15766                  0.000                     0.000   \n",
       "15767                  0.000                     0.000   \n",
       "15768                  0.000                     0.000   \n",
       "...                      ...                       ...   \n",
       "15986                 44.974                    32.164   \n",
       "15987                 38.841                    32.795   \n",
       "15988                 44.176                    33.399   \n",
       "15989                 48.550                    34.082   \n",
       "15990                 46.777                    34.811   \n",
       "\n",
       "       new_deaths_per_million  new_tests  total_tests  \\\n",
       "15764                   0.000      157.0       6500.0   \n",
       "15765                   0.000      157.0       6500.0   \n",
       "15766                   0.000      157.0       6500.0   \n",
       "15767                   0.000      157.0       6500.0   \n",
       "15768                   0.000      157.0       6500.0   \n",
       "...                       ...        ...          ...   \n",
       "15986                   0.730   698290.0   25281848.0   \n",
       "15987                   0.631   733449.0   26015297.0   \n",
       "15988                   0.604   830391.0   26845688.0   \n",
       "15989                   0.683   848728.0   27694416.0   \n",
       "15990                   0.730      157.0       6500.0   \n",
       "\n",
       "       total_tests_per_thousand  new_tests_per_thousand  new_tests_smoothed  \\\n",
       "15764                     0.010                   0.001              1125.0   \n",
       "15765                     0.010                   0.001              1125.0   \n",
       "15766                     0.010                   0.001              1125.0   \n",
       "15767                     0.010                   0.001              1125.0   \n",
       "15768                     0.010                   0.001              1125.0   \n",
       "...                         ...                     ...                 ...   \n",
       "15986                    18.320                   0.506            631014.0   \n",
       "15987                    18.852                   0.531            647271.0   \n",
       "15988                    19.453                   0.602            670905.0   \n",
       "15989                    20.068                   0.615            700860.0   \n",
       "15990                     0.010                   0.001              1125.0   \n",
       "\n",
       "       new_tests_smoothed_per_thousand  tests_per_case  positive_rate  \\\n",
       "15764                            0.001          10.889          0.039   \n",
       "15765                            0.001          10.889          0.039   \n",
       "15766                            0.001          10.889          0.039   \n",
       "15767                            0.001          10.889          0.039   \n",
       "15768                            0.001          10.889          0.039   \n",
       "...                                ...             ...            ...   \n",
       "15986                            0.457          10.737          0.093   \n",
       "15987                            0.469          10.973          0.091   \n",
       "15988                            0.486          11.145          0.090   \n",
       "15989                            0.508          11.354          0.088   \n",
       "15990                            0.001          10.889          0.039   \n",
       "\n",
       "       stringency_index  \n",
       "15764             10.19  \n",
       "15765              0.00  \n",
       "15766              0.00  \n",
       "15767              0.00  \n",
       "15768              0.00  \n",
       "...                 ...  \n",
       "15986             10.19  \n",
       "15987             10.19  \n",
       "15988             10.19  \n",
       "15989             10.19  \n",
       "15990             10.19  \n",
       "\n",
       "[227 rows x 17 columns]"
      ]
     },
     "execution_count": 110,
     "metadata": {},
     "output_type": "execute_result"
    }
   ],
   "source": [
    "X"
   ]
  },
  {
   "cell_type": "code",
   "execution_count": 111,
   "metadata": {},
   "outputs": [
    {
     "data": {
      "text/plain": [
       "array(['date', 'new_cases', 'total_deaths', 'new_deaths',\n",
       "       'total_cases_per_million', 'new_cases_per_million',\n",
       "       'total_deaths_per_million', 'new_deaths_per_million', 'new_tests',\n",
       "       'total_tests', 'total_tests_per_thousand',\n",
       "       'new_tests_per_thousand', 'new_tests_smoothed',\n",
       "       'new_tests_smoothed_per_thousand', 'tests_per_case',\n",
       "       'positive_rate', 'stringency_index'], dtype=object)"
      ]
     },
     "execution_count": 111,
     "metadata": {},
     "output_type": "execute_result"
    }
   ],
   "source": [
    "X.columns.values"
   ]
  },
  {
   "cell_type": "markdown",
   "metadata": {},
   "source": [
    "# Predicting on a new random data"
   ]
  },
  {
   "cell_type": "code",
   "execution_count": 112,
   "metadata": {},
   "outputs": [
    {
     "data": {
      "text/plain": [
       "DatetimeIndex(['2020-08-15'], dtype='datetime64[ns]', freq='H')"
      ]
     },
     "execution_count": 112,
     "metadata": {},
     "output_type": "execute_result"
    }
   ],
   "source": [
    "date = pd.date_range('15/08/2020',periods = 1, freq = 'H')\n",
    "date"
   ]
  },
  {
   "cell_type": "code",
   "execution_count": 113,
   "metadata": {},
   "outputs": [
    {
     "data": {
      "text/plain": [
       "Int64Index([737652], dtype='int64')"
      ]
     },
     "execution_count": 113,
     "metadata": {},
     "output_type": "execute_result"
    }
   ],
   "source": [
    "import datetime as dt\n",
    "date = pd.to_datetime(date)\n",
    "date = date.map(dt.datetime.toordinal)\n",
    "date"
   ]
  },
  {
   "cell_type": "code",
   "execution_count": 114,
   "metadata": {},
   "outputs": [],
   "source": [
    "pred_data = pd.read_csv(\"prediction_data_covid_regression.csv\")"
   ]
  },
  {
   "cell_type": "code",
   "execution_count": 115,
   "metadata": {},
   "outputs": [
    {
     "data": {
      "text/html": [
       "<div>\n",
       "<style scoped>\n",
       "    .dataframe tbody tr th:only-of-type {\n",
       "        vertical-align: middle;\n",
       "    }\n",
       "\n",
       "    .dataframe tbody tr th {\n",
       "        vertical-align: top;\n",
       "    }\n",
       "\n",
       "    .dataframe thead th {\n",
       "        text-align: right;\n",
       "    }\n",
       "</style>\n",
       "<table border=\"1\" class=\"dataframe\">\n",
       "  <thead>\n",
       "    <tr style=\"text-align: right;\">\n",
       "      <th></th>\n",
       "      <th>date</th>\n",
       "      <th>new_cases</th>\n",
       "      <th>total_deaths</th>\n",
       "      <th>new_deaths</th>\n",
       "      <th>total_cases_per_million</th>\n",
       "      <th>new_cases_per_million</th>\n",
       "      <th>total_deaths_per_million</th>\n",
       "      <th>new_deaths_per_million</th>\n",
       "      <th>new_tests</th>\n",
       "      <th>total_tests</th>\n",
       "      <th>total_tests_per_thousand</th>\n",
       "      <th>new_tests_per_thousand</th>\n",
       "      <th>new_tests_smoothed</th>\n",
       "      <th>new_tests_smoothed_per_thousand</th>\n",
       "      <th>tests_per_case</th>\n",
       "      <th>positive_rate</th>\n",
       "      <th>stringency_index</th>\n",
       "    </tr>\n",
       "  </thead>\n",
       "  <tbody>\n",
       "    <tr>\n",
       "      <th>0</th>\n",
       "      <td>737652</td>\n",
       "      <td>65000</td>\n",
       "      <td>4900</td>\n",
       "      <td>1100</td>\n",
       "      <td>1830</td>\n",
       "      <td>47</td>\n",
       "      <td>35</td>\n",
       "      <td>0.8</td>\n",
       "      <td>900000</td>\n",
       "      <td>28000000</td>\n",
       "      <td>21</td>\n",
       "      <td>0.625</td>\n",
       "      <td>750000</td>\n",
       "      <td>0.55</td>\n",
       "      <td>12.369</td>\n",
       "      <td>0.09</td>\n",
       "      <td>10.19</td>\n",
       "    </tr>\n",
       "  </tbody>\n",
       "</table>\n",
       "</div>"
      ],
      "text/plain": [
       "     date  new_cases  total_deaths  new_deaths  total_cases_per_million  \\\n",
       "0  737652      65000          4900        1100                     1830   \n",
       "\n",
       "   new_cases_per_million  total_deaths_per_million  new_deaths_per_million  \\\n",
       "0                     47                        35                     0.8   \n",
       "\n",
       "   new_tests  total_tests  total_tests_per_thousand  new_tests_per_thousand  \\\n",
       "0     900000     28000000                        21                   0.625   \n",
       "\n",
       "   new_tests_smoothed  new_tests_smoothed_per_thousand  tests_per_case  \\\n",
       "0              750000                             0.55          12.369   \n",
       "\n",
       "   positive_rate  stringency_index  \n",
       "0           0.09             10.19  "
      ]
     },
     "execution_count": 115,
     "metadata": {},
     "output_type": "execute_result"
    }
   ],
   "source": [
    "pred_data"
   ]
  },
  {
   "cell_type": "code",
   "execution_count": 116,
   "metadata": {},
   "outputs": [
    {
     "data": {
      "text/plain": [
       "array([2524067.76285145])"
      ]
     },
     "execution_count": 116,
     "metadata": {},
     "output_type": "execute_result"
    }
   ],
   "source": [
    "reg.predict(pred_data)"
   ]
  },
  {
   "cell_type": "markdown",
   "metadata": {},
   "source": [
    "#### The prediciton of linear regression for the date 15/08/2020 gives total cases as 2,524,542 approx"
   ]
  },
  {
   "cell_type": "code",
   "execution_count": 117,
   "metadata": {},
   "outputs": [
    {
     "data": {
      "text/plain": [
       "array([1876789.64])"
      ]
     },
     "execution_count": 117,
     "metadata": {},
     "output_type": "execute_result"
    }
   ],
   "source": [
    "randomfor.predict(pred_data)"
   ]
  },
  {
   "cell_type": "markdown",
   "metadata": {},
   "source": [
    "#### The prediciton of Random forest regression for the date 15/08/2020 gives total cases as 1,832,164 approx"
   ]
  }
 ],
 "metadata": {
  "kernelspec": {
   "display_name": "Python 3",
   "language": "python",
   "name": "python3"
  },
  "language_info": {
   "codemirror_mode": {
    "name": "ipython",
    "version": 3
   },
   "file_extension": ".py",
   "mimetype": "text/x-python",
   "name": "python",
   "nbconvert_exporter": "python",
   "pygments_lexer": "ipython3",
   "version": "3.8.3"
  }
 },
 "nbformat": 4,
 "nbformat_minor": 4
}
